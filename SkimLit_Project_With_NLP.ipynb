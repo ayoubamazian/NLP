{
  "nbformat": 4,
  "nbformat_minor": 0,
  "metadata": {
    "colab": {
      "provenance": [],
      "collapsed_sections": [
        "VATa7aCM0pzi",
        "p3OFnc2Q1KKv",
        "KKnbUOFx2iqc",
        "9C4zm3ca20Zk",
        "hGtMrRW8JJAh",
        "Qx6RDn6odh4I",
        "0OOLz3bN1vs1"
      ],
      "toc_visible": true,
      "authorship_tag": "ABX9TyPh/FY5M0tcwBMf7DJLvNkc",
      "include_colab_link": true
    },
    "kernelspec": {
      "name": "python3",
      "display_name": "Python 3"
    },
    "language_info": {
      "name": "python"
    },
    "accelerator": "GPU",
    "gpuClass": "standard"
  },
  "cells": [
    {
      "cell_type": "markdown",
      "metadata": {
        "id": "view-in-github",
        "colab_type": "text"
      },
      "source": [
        "<a href=\"https://colab.research.google.com/github/ayoubamazian/NLP/blob/main/SkimLit_Project_With_NLP.ipynb\" target=\"_parent\"><img src=\"https://colab.research.google.com/assets/colab-badge.svg\" alt=\"Open In Colab\"/></a>"
      ]
    },
    {
      "cell_type": "markdown",
      "source": [
        "### **The goal of this dataset was to explore the ability for NLP models to classify sentences which appear in sequential order.** \n",
        "We will be replicating this deep learning model from this paper:\n",
        "* https://arxiv.org/abs/1710.06071\n",
        "* https://arxiv.org/pdf/1612.05251.pdf"
      ],
      "metadata": {
        "id": "pkQr9NydzfZU"
      }
    },
    {
      "cell_type": "markdown",
      "source": [
        "### **extracting data from the gitHub and getting familiar with it**\n",
        "\n"
      ],
      "metadata": {
        "id": "VATa7aCM0pzi"
      }
    },
    {
      "cell_type": "code",
      "execution_count": 1,
      "metadata": {
        "colab": {
          "base_uri": "https://localhost:8080/"
        },
        "id": "0H4ezyxBLX-I",
        "outputId": "e085dc0b-712b-4b76-89c4-87094dc13b1b"
      },
      "outputs": [
        {
          "output_type": "stream",
          "name": "stdout",
          "text": [
            "Cloning into 'pubmed-rct'...\n",
            "remote: Enumerating objects: 33, done.\u001b[K\n",
            "remote: Counting objects: 100% (8/8), done.\u001b[K\n",
            "remote: Compressing objects: 100% (3/3), done.\u001b[K\n",
            "remote: Total 33 (delta 5), reused 5 (delta 5), pack-reused 25\u001b[K\n",
            "Unpacking objects: 100% (33/33), done.\n",
            "Checking out files: 100% (13/13), done.\n",
            "PubMed_200k_RCT\n",
            "PubMed_200k_RCT_numbers_replaced_with_at_sign\n",
            "PubMed_20k_RCT\n",
            "PubMed_20k_RCT_numbers_replaced_with_at_sign\n",
            "README.md\n"
          ]
        }
      ],
      "source": [
        "!git clone https://github.com/Franck-Dernoncourt/pubmed-rct.git\n",
        "!ls pubmed-rct"
      ]
    },
    {
      "cell_type": "code",
      "source": [
        "#start our experiment using PubMed_20k_RCT_numbers_replaced_with_at_sign\n",
        "\n",
        "data_dir = \"/content/pubmed-rct/PubMed_20k_RCT_numbers_replaced_with_at_sign/\""
      ],
      "metadata": {
        "id": "CtlsGY-RrQ52"
      },
      "execution_count": 2,
      "outputs": []
    },
    {
      "cell_type": "code",
      "source": [
        "import os\n",
        "\n",
        "file_names = [data_dir + filename for filename in os.listdir(data_dir)]\n",
        "file_names"
      ],
      "metadata": {
        "colab": {
          "base_uri": "https://localhost:8080/"
        },
        "id": "4NEOPladrtdn",
        "outputId": "f8ffa57a-b04d-49d8-997b-be82c977cf15"
      },
      "execution_count": 3,
      "outputs": [
        {
          "output_type": "execute_result",
          "data": {
            "text/plain": [
              "['/content/pubmed-rct/PubMed_20k_RCT_numbers_replaced_with_at_sign/dev.txt',\n",
              " '/content/pubmed-rct/PubMed_20k_RCT_numbers_replaced_with_at_sign/train.txt',\n",
              " '/content/pubmed-rct/PubMed_20k_RCT_numbers_replaced_with_at_sign/test.txt']"
            ]
          },
          "metadata": {},
          "execution_count": 3
        }
      ]
    },
    {
      "cell_type": "code",
      "source": [
        "def get_lines(filename):\n",
        "  with open(filename, \"r\") as file:\n",
        "    return file.readlines()"
      ],
      "metadata": {
        "id": "SfgjCQ2YsCyh"
      },
      "execution_count": 4,
      "outputs": []
    },
    {
      "cell_type": "code",
      "source": [
        "lines = get_lines(data_dir+\"train.txt\")\n",
        "lines[:20]"
      ],
      "metadata": {
        "colab": {
          "base_uri": "https://localhost:8080/"
        },
        "id": "2fwNBYh7sa9K",
        "outputId": "ee5797ea-4255-40f3-bb5e-3c03f28a1a36"
      },
      "execution_count": 5,
      "outputs": [
        {
          "output_type": "execute_result",
          "data": {
            "text/plain": [
              "['###24293578\\n',\n",
              " 'OBJECTIVE\\tTo investigate the efficacy of @ weeks of daily low-dose oral prednisolone in improving pain , mobility , and systemic low-grade inflammation in the short term and whether the effect would be sustained at @ weeks in older adults with moderate to severe knee osteoarthritis ( OA ) .\\n',\n",
              " 'METHODS\\tA total of @ patients with primary knee OA were randomized @:@ ; @ received @ mg/day of prednisolone and @ received placebo for @ weeks .\\n',\n",
              " 'METHODS\\tOutcome measures included pain reduction and improvement in function scores and systemic inflammation markers .\\n',\n",
              " 'METHODS\\tPain was assessed using the visual analog pain scale ( @-@ mm ) .\\n',\n",
              " 'METHODS\\tSecondary outcome measures included the Western Ontario and McMaster Universities Osteoarthritis Index scores , patient global assessment ( PGA ) of the severity of knee OA , and @-min walk distance ( @MWD ) .\\n',\n",
              " 'METHODS\\tSerum levels of interleukin @ ( IL-@ ) , IL-@ , tumor necrosis factor ( TNF ) - , and high-sensitivity C-reactive protein ( hsCRP ) were measured .\\n',\n",
              " 'RESULTS\\tThere was a clinically relevant reduction in the intervention group compared to the placebo group for knee pain , physical function , PGA , and @MWD at @ weeks .\\n',\n",
              " 'RESULTS\\tThe mean difference between treatment arms ( @ % CI ) was @ ( @-@ @ ) , p < @ ; @ ( @-@ @ ) , p < @ ; @ ( @-@ @ ) , p < @ ; and @ ( @-@ @ ) , p < @ , respectively .\\n',\n",
              " 'RESULTS\\tFurther , there was a clinically relevant reduction in the serum levels of IL-@ , IL-@ , TNF - , and hsCRP at @ weeks in the intervention group when compared to the placebo group .\\n',\n",
              " 'RESULTS\\tThese differences remained significant at @ weeks .\\n',\n",
              " 'RESULTS\\tThe Outcome Measures in Rheumatology Clinical Trials-Osteoarthritis Research Society International responder rate was @ % in the intervention group and @ % in the placebo group ( p < @ ) .\\n',\n",
              " 'CONCLUSIONS\\tLow-dose oral prednisolone had both a short-term and a longer sustained effect resulting in less knee pain , better physical function , and attenuation of systemic inflammation in older patients with knee OA ( ClinicalTrials.gov identifier NCT@ ) .\\n',\n",
              " '\\n',\n",
              " '###24854809\\n',\n",
              " 'BACKGROUND\\tEmotional eating is associated with overeating and the development of obesity .\\n',\n",
              " 'BACKGROUND\\tYet , empirical evidence for individual ( trait ) differences in emotional eating and cognitive mechanisms that contribute to eating during sad mood remain equivocal .\\n',\n",
              " 'OBJECTIVE\\tThe aim of this study was to test if attention bias for food moderates the effect of self-reported emotional eating during sad mood ( vs neutral mood ) on actual food intake .\\n',\n",
              " 'OBJECTIVE\\tIt was expected that emotional eating is predictive of elevated attention for food and higher food intake after an experimentally induced sad mood and that attentional maintenance on food predicts food intake during a sad versus a neutral mood .\\n',\n",
              " 'METHODS\\tParticipants ( N = @ ) were randomly assigned to one of the two experimental mood induction conditions ( sad/neutral ) .\\n']"
            ]
          },
          "metadata": {},
          "execution_count": 5
        }
      ]
    },
    {
      "cell_type": "code",
      "source": [
        "len(lines)"
      ],
      "metadata": {
        "colab": {
          "base_uri": "https://localhost:8080/"
        },
        "id": "IjqDLhivsmL7",
        "outputId": "c93bfbe6-1cb8-44f7-9686-25182ac0cac8"
      },
      "execution_count": 6,
      "outputs": [
        {
          "output_type": "execute_result",
          "data": {
            "text/plain": [
              "210040"
            ]
          },
          "metadata": {},
          "execution_count": 6
        }
      ]
    },
    {
      "cell_type": "markdown",
      "source": [
        "### **Preparing the data**"
      ],
      "metadata": {
        "id": "p3OFnc2Q1KKv"
      }
    },
    {
      "cell_type": "code",
      "source": [
        "def preprocess_text(filename):\n",
        "  input_line = get_lines(filename)\n",
        "  # abstract_lines = ''\n",
        "  abstract_samples = []\n",
        "\n",
        "  for line in input_line:\n",
        "    if line.startswith(\"###\"):\n",
        "      abstract_lines = ''\n",
        "    elif line.isspace():\n",
        "      abstract_split = abstract_lines.splitlines() #The splitlines() method splits a string into a list. The splitting is done at line breaks.\n",
        "                                                   #splitlines() == split(\"\\n\")\n",
        "      for num_line, abstract_line in enumerate(abstract_split):\n",
        "        line_data = {}\n",
        "        target_text_split = abstract_line.split('\\t')\n",
        "        line_data[\"target\"] = target_text_split[0]\n",
        "        line_data[\"text\"] = target_text_split[1].lower()\n",
        "        line_data[\"num_line\"] = num_line\n",
        "        line_data[\"total_lines\"] = len(abstract_split)\n",
        "        abstract_samples.append(line_data)\n",
        "    else:\n",
        "      abstract_lines += line  \n",
        "  return  abstract_samples"
      ],
      "metadata": {
        "id": "fj3Ol-_EsshD"
      },
      "execution_count": 7,
      "outputs": []
    },
    {
      "cell_type": "code",
      "source": [
        "train_samples = preprocess_text(data_dir+\"train.txt\")\n",
        "test_samples = preprocess_text(data_dir+\"test.txt\")\n",
        "dev_samples = preprocess_text(data_dir+\"dev.txt\")"
      ],
      "metadata": {
        "id": "mBDWv744z0xq"
      },
      "execution_count": 8,
      "outputs": []
    },
    {
      "cell_type": "code",
      "source": [
        "import pandas as pd\n",
        "\n",
        "train_df = pd.DataFrame(train_samples)\n",
        "test_df = pd.DataFrame(test_samples)\n",
        "dev_df = pd.DataFrame(dev_samples)\n",
        "\n",
        "len(train_df), len(test_df), len(dev_df)"
      ],
      "metadata": {
        "colab": {
          "base_uri": "https://localhost:8080/"
        },
        "id": "9_7y7KkT0Js0",
        "outputId": "f04cb19c-ae45-4204-b9f0-16d04b7c40ca"
      },
      "execution_count": 9,
      "outputs": [
        {
          "output_type": "execute_result",
          "data": {
            "text/plain": [
              "(180040, 30135, 30212)"
            ]
          },
          "metadata": {},
          "execution_count": 9
        }
      ]
    },
    {
      "cell_type": "code",
      "source": [
        "train_df.target.value_counts()"
      ],
      "metadata": {
        "colab": {
          "base_uri": "https://localhost:8080/"
        },
        "id": "4x86yeOu0leQ",
        "outputId": "c85aaecb-7a5c-42e9-e524-4fb14e23bc79"
      },
      "execution_count": 10,
      "outputs": [
        {
          "output_type": "execute_result",
          "data": {
            "text/plain": [
              "METHODS        59353\n",
              "RESULTS        57953\n",
              "CONCLUSIONS    27168\n",
              "BACKGROUND     21727\n",
              "OBJECTIVE      13839\n",
              "Name: target, dtype: int64"
            ]
          },
          "metadata": {},
          "execution_count": 10
        }
      ]
    },
    {
      "cell_type": "code",
      "source": [
        "train_df.total_lines.plot.hist()"
      ],
      "metadata": {
        "colab": {
          "base_uri": "https://localhost:8080/",
          "height": 0
        },
        "id": "kq_yhlJp1df9",
        "outputId": "dcdac330-903c-4219-fdfe-dbe7a628632b"
      },
      "execution_count": 11,
      "outputs": [
        {
          "output_type": "execute_result",
          "data": {
            "text/plain": [
              "<matplotlib.axes._subplots.AxesSubplot at 0x7f65baa36590>"
            ]
          },
          "metadata": {},
          "execution_count": 11
        },
        {
          "output_type": "display_data",
          "data": {
            "text/plain": [
              "<Figure size 432x288 with 1 Axes>"
            ],
            "image/png": "[encoded data removed]"
          },
          "metadata": {
            "needs_background": "light"
          }
        }
      ]
    },
    {
      "cell_type": "code",
      "source": [
        "train_sentences = train_df[\"text\"].tolist()\n",
        "test_sentences = test_df[\"text\"].tolist()\n",
        "dev_sentences = dev_df[\"text\"].tolist()\n",
        "\n",
        "train_sentences[:10]"
      ],
      "metadata": {
        "colab": {
          "base_uri": "https://localhost:8080/"
        },
        "id": "uywVeOS011rH",
        "outputId": "906adab9-abf5-4eba-f3c5-3e7cd93283ce"
      },
      "execution_count": 12,
      "outputs": [
        {
          "output_type": "execute_result",
          "data": {
            "text/plain": [
              "['to investigate the efficacy of @ weeks of daily low-dose oral prednisolone in improving pain , mobility , and systemic low-grade inflammation in the short term and whether the effect would be sustained at @ weeks in older adults with moderate to severe knee osteoarthritis ( oa ) .',\n",
              " 'a total of @ patients with primary knee oa were randomized @:@ ; @ received @ mg/day of prednisolone and @ received placebo for @ weeks .',\n",
              " 'outcome measures included pain reduction and improvement in function scores and systemic inflammation markers .',\n",
              " 'pain was assessed using the visual analog pain scale ( @-@ mm ) .',\n",
              " 'secondary outcome measures included the western ontario and mcmaster universities osteoarthritis index scores , patient global assessment ( pga ) of the severity of knee oa , and @-min walk distance ( @mwd ) .',\n",
              " 'serum levels of interleukin @ ( il-@ ) , il-@ , tumor necrosis factor ( tnf ) - , and high-sensitivity c-reactive protein ( hscrp ) were measured .',\n",
              " 'there was a clinically relevant reduction in the intervention group compared to the placebo group for knee pain , physical function , pga , and @mwd at @ weeks .',\n",
              " 'the mean difference between treatment arms ( @ % ci ) was @ ( @-@ @ ) , p < @ ; @ ( @-@ @ ) , p < @ ; @ ( @-@ @ ) , p < @ ; and @ ( @-@ @ ) , p < @ , respectively .',\n",
              " 'further , there was a clinically relevant reduction in the serum levels of il-@ , il-@ , tnf - , and hscrp at @ weeks in the intervention group when compared to the placebo group .',\n",
              " 'these differences remained significant at @ weeks .']"
            ]
          },
          "metadata": {},
          "execution_count": 12
        }
      ]
    },
    {
      "cell_type": "code",
      "source": [
        "len(train_sentences)"
      ],
      "metadata": {
        "colab": {
          "base_uri": "https://localhost:8080/"
        },
        "id": "lWGvmKxA9zWv",
        "outputId": "2cf6d4b6-26ad-4540-ce4c-963624e7420d"
      },
      "execution_count": 13,
      "outputs": [
        {
          "output_type": "execute_result",
          "data": {
            "text/plain": [
              "180040"
            ]
          },
          "metadata": {},
          "execution_count": 13
        }
      ]
    },
    {
      "cell_type": "code",
      "source": [
        "#Encode labels\n",
        "\n",
        "from sklearn.preprocessing import LabelEncoder\n",
        "\n",
        "label_encoder = LabelEncoder()\n",
        "y_train = label_encoder.fit_transform(train_df[\"target\"].to_numpy())\n",
        "y_test = label_encoder.fit_transform(test_df[\"target\"].to_numpy())\n",
        "y_dev = label_encoder.fit_transform(dev_df[\"target\"].to_numpy())\n",
        "\n",
        "y_train.shape"
      ],
      "metadata": {
        "colab": {
          "base_uri": "https://localhost:8080/"
        },
        "id": "KMcZGhbQ2Lvb",
        "outputId": "fb9cf0ee-6658-41ba-e1c4-cb9785ebeb0d"
      },
      "execution_count": 14,
      "outputs": [
        {
          "output_type": "execute_result",
          "data": {
            "text/plain": [
              "(180040,)"
            ]
          },
          "metadata": {},
          "execution_count": 14
        }
      ]
    },
    {
      "cell_type": "code",
      "source": [
        "#One_hot labels\n",
        "\n",
        "from sklearn.preprocessing import OneHotEncoder\n",
        "\n",
        "one = OneHotEncoder(sparse=False) #we want none-sparse matrix because it does not fit with tensorflow\n",
        "y_train_one = one.fit_transform(train_df[\"target\"].to_numpy().reshape(-1,1))\n",
        "y_test_one = one.fit_transform(test_df[\"target\"].to_numpy().reshape(-1,1))\n",
        "y_dev_one = one.fit_transform(dev_df[\"target\"].to_numpy().reshape(-1,1))\n",
        "\n",
        "y_train_one[:5]"
      ],
      "metadata": {
        "colab": {
          "base_uri": "https://localhost:8080/"
        },
        "id": "d1q90CIx3GkJ",
        "outputId": "77aee670-3dde-41d2-b8cd-b7b371830fc9"
      },
      "execution_count": 15,
      "outputs": [
        {
          "output_type": "execute_result",
          "data": {
            "text/plain": [
              "array([[0., 0., 0., 1., 0.],\n",
              "       [0., 0., 1., 0., 0.],\n",
              "       [0., 0., 1., 0., 0.],\n",
              "       [0., 0., 1., 0., 0.],\n",
              "       [0., 0., 1., 0., 0.]])"
            ]
          },
          "metadata": {},
          "execution_count": 15
        }
      ]
    },
    {
      "cell_type": "code",
      "source": [
        "num_classes = len(label_encoder.classes_)\n",
        "name_classes = label_encoder.classes_\n",
        "num_classes, name_classes"
      ],
      "metadata": {
        "colab": {
          "base_uri": "https://localhost:8080/"
        },
        "id": "1-nDTaBR_bmb",
        "outputId": "3a1ba9a8-c5a0-4a84-9eef-fe75bef4cc57"
      },
      "execution_count": 16,
      "outputs": [
        {
          "output_type": "execute_result",
          "data": {
            "text/plain": [
              "(5, array(['BACKGROUND', 'CONCLUSIONS', 'METHODS', 'OBJECTIVE', 'RESULTS'],\n",
              "       dtype=object))"
            ]
          },
          "metadata": {},
          "execution_count": 16
        }
      ]
    },
    {
      "cell_type": "markdown",
      "source": [
        "**Model_0:Naive_bais**\n",
        "\n",
        "1.   MultinomialNB\n",
        "2.   ComplementNB\n",
        "3.   BernouliNB\n",
        "\n"
      ],
      "metadata": {
        "id": "KQvaZTO91dBl"
      }
    },
    {
      "cell_type": "code",
      "source": [
        "from sklearn.naive_bayes import MultinomialNB, ComplementNB, BernoulliNB\n",
        "from sklearn.feature_extraction.text import TfidfVectorizer\n",
        "from sklearn.pipeline import Pipeline"
      ],
      "metadata": {
        "id": "JD34M-Zw7TYm"
      },
      "execution_count": 17,
      "outputs": []
    },
    {
      "cell_type": "code",
      "source": [
        "# MultinomialNB\n",
        "\n",
        "model_0 = Pipeline([\n",
        "    (\"tfidf\", TfidfVectorizer()),\n",
        "    (\"GNB\", MultinomialNB())\n",
        "])\n",
        "\n",
        "model_0.fit(train_sentences, y_train)"
      ],
      "metadata": {
        "colab": {
          "base_uri": "https://localhost:8080/"
        },
        "id": "Op0boGeX8yMa",
        "outputId": "69cfea62-ef7e-4eed-b1a2-586530935abf"
      },
      "execution_count": 18,
      "outputs": [
        {
          "output_type": "execute_result",
          "data": {
            "text/plain": [
              "Pipeline(steps=[('tfidf', TfidfVectorizer()), ('GNB', MultinomialNB())])"
            ]
          },
          "metadata": {},
          "execution_count": 18
        }
      ]
    },
    {
      "cell_type": "code",
      "source": [
        "score = model_0.score(dev_sentences, y_dev)\n",
        "score"
      ],
      "metadata": {
        "colab": {
          "base_uri": "https://localhost:8080/"
        },
        "id": "XYVoi-y49i9k",
        "outputId": "a7ed449f-a99d-4766-bf1f-06993749d3f1"
      },
      "execution_count": 19,
      "outputs": [
        {
          "output_type": "execute_result",
          "data": {
            "text/plain": [
              "0.7218323844829869"
            ]
          },
          "metadata": {},
          "execution_count": 19
        }
      ]
    },
    {
      "cell_type": "code",
      "source": [
        "y_pred_0 = model_0.predict(test_sentences)"
      ],
      "metadata": {
        "id": "fy3I2C-cMUVR"
      },
      "execution_count": 20,
      "outputs": []
    },
    {
      "cell_type": "code",
      "source": [
        "!wget https://raw.githubusercontent.com/mrdbourke/tensorflow-deep-learning/main/extras/helper_functions.py"
      ],
      "metadata": {
        "id": "KsXTAQSlBeU2",
        "colab": {
          "base_uri": "https://localhost:8080/"
        },
        "outputId": "73154083-fcae-4e3a-ad33-15d164be05b4"
      },
      "execution_count": 21,
      "outputs": [
        {
          "output_type": "stream",
          "name": "stdout",
          "text": [
            "--2022-11-29 12:37:43--  https://raw.githubusercontent.com/mrdbourke/tensorflow-deep-learning/main/extras/helper_functions.py\n",
            "Resolving raw.githubusercontent.com (raw.githubusercontent.com)... 185.199.109.133, 185.199.108.133, 185.199.111.133, ...\n",
            "Connecting to raw.githubusercontent.com (raw.githubusercontent.com)|185.199.109.133|:443... connected.\n",
            "HTTP request sent, awaiting response... 200 OK\n",
            "Length: 10246 (10K) [text/plain]\n",
            "Saving to: ‘helper_functions.py’\n",
            "\n",
            "helper_functions.py 100%[===================>]  10.01K  --.-KB/s    in 0s      \n",
            "\n",
            "2022-11-29 12:37:44 (69.5 MB/s) - ‘helper_functions.py’ saved [10246/10246]\n",
            "\n"
          ]
        }
      ]
    },
    {
      "cell_type": "code",
      "source": [
        "#ComplementNB\n",
        "model_0_c = Pipeline([\n",
        "    (\"tfidf\", TfidfVectorizer()),\n",
        "    (\"GNB\", ComplementNB())\n",
        "])\n",
        "\n",
        "model_0_c.fit(train_sentences, y_train)"
      ],
      "metadata": {
        "colab": {
          "base_uri": "https://localhost:8080/"
        },
        "id": "-wSVPNgRNLsS",
        "outputId": "905b6141-3a9f-499c-c3ba-04df1715d541"
      },
      "execution_count": 22,
      "outputs": [
        {
          "output_type": "execute_result",
          "data": {
            "text/plain": [
              "Pipeline(steps=[('tfidf', TfidfVectorizer()), ('GNB', ComplementNB())])"
            ]
          },
          "metadata": {},
          "execution_count": 22
        }
      ]
    },
    {
      "cell_type": "code",
      "source": [
        "model_0_c.score(dev_sentences, y_dev)"
      ],
      "metadata": {
        "colab": {
          "base_uri": "https://localhost:8080/"
        },
        "id": "TyOKoTPPOQFO",
        "outputId": "59f92370-aca6-452a-b58b-5b179162ea45"
      },
      "execution_count": 23,
      "outputs": [
        {
          "output_type": "execute_result",
          "data": {
            "text/plain": [
              "0.7370250231696015"
            ]
          },
          "metadata": {},
          "execution_count": 23
        }
      ]
    },
    {
      "cell_type": "code",
      "source": [
        "#BernoulliNB\n",
        "model_0_b = Pipeline([\n",
        "    (\"tfidf\", TfidfVectorizer()),\n",
        "    (\"GNB\", BernoulliNB())\n",
        "])\n",
        "\n",
        "model_0_b.fit(train_sentences, y_train)"
      ],
      "metadata": {
        "colab": {
          "base_uri": "https://localhost:8080/"
        },
        "id": "qPBI9b7mOVoL",
        "outputId": "5e2a290c-08bb-4a9d-f328-6a1e7cfdd664"
      },
      "execution_count": 24,
      "outputs": [
        {
          "output_type": "execute_result",
          "data": {
            "text/plain": [
              "Pipeline(steps=[('tfidf', TfidfVectorizer()), ('GNB', BernoulliNB())])"
            ]
          },
          "metadata": {},
          "execution_count": 24
        }
      ]
    },
    {
      "cell_type": "code",
      "source": [
        "model_0_b.score(test_sentences, y_test)"
      ],
      "metadata": {
        "colab": {
          "base_uri": "https://localhost:8080/"
        },
        "id": "b-tvfprPPnWS",
        "outputId": "f7dc93b6-0cf8-4fe3-8669-d7e64ddeca29"
      },
      "execution_count": 25,
      "outputs": [
        {
          "output_type": "execute_result",
          "data": {
            "text/plain": [
              "0.7599800895968143"
            ]
          },
          "metadata": {},
          "execution_count": 25
        }
      ]
    },
    {
      "cell_type": "code",
      "source": [
        "from helper_functions import calculate_results\n",
        "\n",
        "y_pred_0_b = model_0_b.predict(dev_sentences)\n",
        "\n",
        "model_0_b_result = calculate_results(y_dev, y_pred_0_b)\n",
        "model_0_b_result"
      ],
      "metadata": {
        "colab": {
          "base_uri": "https://localhost:8080/"
        },
        "id": "JKAopTO2Q-LN",
        "outputId": "10699704-089c-4658-dd3d-e3d4f4d9cd2b"
      },
      "execution_count": 26,
      "outputs": [
        {
          "output_type": "execute_result",
          "data": {
            "text/plain": [
              "{'accuracy': 76.592082616179,\n",
              " 'precision': 0.7645818346926345,\n",
              " 'recall': 0.76592082616179,\n",
              " 'f1': 0.7648629994981836}"
            ]
          },
          "metadata": {},
          "execution_count": 26
        }
      ]
    },
    {
      "cell_type": "markdown",
      "source": [
        "### **Preparing our deep learning model**\n",
        "\n",
        "*   Vectorization\n",
        "*   Embedding\n"
      ],
      "metadata": {
        "id": "KKnbUOFx2iqc"
      }
    },
    {
      "cell_type": "code",
      "source": [
        "import numpy as np\n",
        "sent_len = [len(sentence.split()) for sentence in train_sentences]\n",
        "avg_len = np.average(sent_len)\n",
        "avg_len"
      ],
      "metadata": {
        "colab": {
          "base_uri": "https://localhost:8080/"
        },
        "id": "F_zp3P7HVgAU",
        "outputId": "6b1aca2b-c6fa-4f15-c615-d188c4365407"
      },
      "execution_count": 27,
      "outputs": [
        {
          "output_type": "execute_result",
          "data": {
            "text/plain": [
              "26.338269273494777"
            ]
          },
          "metadata": {},
          "execution_count": 27
        }
      ]
    },
    {
      "cell_type": "code",
      "source": [
        "import matplotlib.pyplot as plt\n",
        "\n",
        "plt.hist(sent_len, bins=20);"
      ],
      "metadata": {
        "colab": {
          "base_uri": "https://localhost:8080/",
          "height": 0
        },
        "id": "sWZFTeVfX61j",
        "outputId": "c6dfe458-acef-4297-c147-6e80deb6a4a0"
      },
      "execution_count": 28,
      "outputs": [
        {
          "output_type": "display_data",
          "data": {
            "text/plain": [
              "<Figure size 432x288 with 1 Axes>"
            ],
            "image/png": "[encoded data removed]"
          },
          "metadata": {
            "needs_background": "light"
          }
        }
      ]
    },
    {
      "cell_type": "code",
      "source": [
        "len_sen = int(np.percentile(sent_len, 95));\n",
        "len_sen"
      ],
      "metadata": {
        "colab": {
          "base_uri": "https://localhost:8080/"
        },
        "id": "1fvp7ydLYHax",
        "outputId": "c4e013bd-04f0-4fe0-ed39-71ab04613d6f"
      },
      "execution_count": 29,
      "outputs": [
        {
          "output_type": "execute_result",
          "data": {
            "text/plain": [
              "55"
            ]
          },
          "metadata": {},
          "execution_count": 29
        }
      ]
    },
    {
      "cell_type": "code",
      "source": [
        "from tensorflow.keras.layers import Embedding\n",
        "from tensorflow.keras.layers.experimental.preprocessing import TextVectorization"
      ],
      "metadata": {
        "id": "56jQ-jF7V_42"
      },
      "execution_count": 30,
      "outputs": []
    },
    {
      "cell_type": "code",
      "source": [
        "text_vectorizer = TextVectorization(max_tokens=68000, # this number was taking from the paper\n",
        "                                    output_sequence_length=len_sen)\n",
        "\n",
        "text_vectorizer.adapt(train_sentences)\n",
        "\n",
        "embeding = Embedding(input_dim=68000,\n",
        "                     output_dim=128,\n",
        "                     mask_zero=True,\n",
        "                     input_length= len_sen)"
      ],
      "metadata": {
        "id": "ompEllSvWeyd"
      },
      "execution_count": 31,
      "outputs": []
    },
    {
      "cell_type": "code",
      "source": [
        "text_vectorizer.get_vocabulary()[:10]"
      ],
      "metadata": {
        "colab": {
          "base_uri": "https://localhost:8080/"
        },
        "id": "wSsTuxiSXOFO",
        "outputId": "0177e975-04cd-46aa-d968-4a4e5621dc5d"
      },
      "execution_count": 32,
      "outputs": [
        {
          "output_type": "execute_result",
          "data": {
            "text/plain": [
              "['', '[UNK]', 'the', 'and', 'of', 'in', 'to', 'with', 'a', 'were']"
            ]
          },
          "metadata": {},
          "execution_count": 32
        }
      ]
    },
    {
      "cell_type": "markdown",
      "source": [
        "### **Making our data faster using:**\n",
        "\n",
        "*   tensor slices\n",
        "*   batch() and prefetch()\n",
        "\n"
      ],
      "metadata": {
        "id": "9C4zm3ca20Zk"
      }
    },
    {
      "cell_type": "code",
      "source": [
        "import tensorflow as tf\n",
        "train_dataset = tf.data.Dataset.from_tensor_slices((train_sentences, y_train))\n",
        "test_dataset = tf.data.Dataset.from_tensor_slices((test_sentences, y_test))\n",
        "dev_dataset = tf.data.Dataset.from_tensor_slices((dev_sentences, y_dev))\n",
        "\n",
        "train_dataset"
      ],
      "metadata": {
        "id": "c1LJpgIb3sl1",
        "colab": {
          "base_uri": "https://localhost:8080/"
        },
        "outputId": "ae139271-2ecd-467a-ee6f-66503ee53521"
      },
      "execution_count": 33,
      "outputs": [
        {
          "output_type": "execute_result",
          "data": {
            "text/plain": [
              "<TensorSliceDataset element_spec=(TensorSpec(shape=(), dtype=tf.string, name=None), TensorSpec(shape=(), dtype=tf.int64, name=None))>"
            ]
          },
          "metadata": {},
          "execution_count": 33
        }
      ]
    },
    {
      "cell_type": "code",
      "source": [
        "train_dataset = train_dataset.batch(32).prefetch(tf.data.AUTOTUNE)\n",
        "test_dataset = test_dataset.batch(32).prefetch(tf.data.AUTOTUNE)\n",
        "dev_dataset = dev_dataset.batch(32).prefetch(tf.data.AUTOTUNE)\n",
        "\n",
        "train_dataset"
      ],
      "metadata": {
        "colab": {
          "base_uri": "https://localhost:8080/"
        },
        "id": "GNU8Wo28cmkL",
        "outputId": "4f08c216-0a91-4311-c380-2567f1d466e5"
      },
      "execution_count": 34,
      "outputs": [
        {
          "output_type": "execute_result",
          "data": {
            "text/plain": [
              "<PrefetchDataset element_spec=(TensorSpec(shape=(None,), dtype=tf.string, name=None), TensorSpec(shape=(None,), dtype=tf.int64, name=None))>"
            ]
          },
          "metadata": {},
          "execution_count": 34
        }
      ]
    },
    {
      "cell_type": "markdown",
      "source": [
        "### **Model 0: naive baise**"
      ],
      "metadata": {
        "id": "hGtMrRW8JJAh"
      }
    },
    {
      "cell_type": "code",
      "source": [
        "from sklearn.naive_bayes import MultinomialNB, CategoricalNB, BernoulliNB\n",
        "from sklearn.feature_extraction.text import TfidfVectorizer\n",
        "from sklearn.pipeline import Pipeline"
      ],
      "metadata": {
        "id": "uNio-NuXJF_K"
      },
      "execution_count": 37,
      "outputs": []
    },
    {
      "cell_type": "code",
      "source": [
        "model_0_M = Pipeline([\n",
        "    (\"tfidf\", TfidfVectorizer()),\n",
        "    (\"clf\", MultinomialNB())\n",
        "])\n",
        "\n",
        "model_0_C = Pipeline([\n",
        "    (\"tfidf\", TfidfVectorizer()),\n",
        "    (\"clf\", CategoricalNB())\n",
        "])\n",
        "\n",
        "model_0_B = Pipeline([\n",
        "    (\"tfidf\", TfidfVectorizer()),\n",
        "    (\"clf\", BernoulliNB())\n",
        "])\n",
        "\n",
        "model_0_M.fit(train_sentences, y_train)\n",
        "# model_0_C.fit(train_sentences, y_train)\n",
        "model_0_B.fit(train_sentences, y_train)"
      ],
      "metadata": {
        "colab": {
          "base_uri": "https://localhost:8080/"
        },
        "id": "U_YiDPs4Jvfg",
        "outputId": "7837e5bf-5a61-40b1-c50d-633d3ed9eca3"
      },
      "execution_count": 41,
      "outputs": [
        {
          "output_type": "execute_result",
          "data": {
            "text/plain": [
              "Pipeline(steps=[('tfidf', TfidfVectorizer()), ('clf', BernoulliNB())])"
            ]
          },
          "metadata": {},
          "execution_count": 41
        }
      ]
    },
    {
      "cell_type": "code",
      "source": [
        "score_M = model_0_M.score(test_sentences, y_test)\n",
        "score_B = model_0_B.score(test_sentences, y_test)\n",
        "\n",
        "print(f\"MultinomialNB score : {score_M}\")\n",
        "print(f\"BernoulliNB score : {score_B}\")"
      ],
      "metadata": {
        "colab": {
          "base_uri": "https://localhost:8080/"
        },
        "id": "4ZqMLSDsJf3k",
        "outputId": "2355d687-e897-4026-a965-771c7a18087c"
      },
      "execution_count": 43,
      "outputs": [
        {
          "output_type": "stream",
          "name": "stdout",
          "text": [
            "MultinomialNB score : 0.716674962667994\n",
            "BernoulliNB score : 0.7599800895968143\n"
          ]
        }
      ]
    },
    {
      "cell_type": "code",
      "source": [
        "y_pred_0 = model_0_B.predict(dev_sentences)\n",
        "y_pred_0"
      ],
      "metadata": {
        "colab": {
          "base_uri": "https://localhost:8080/"
        },
        "id": "TtzTmNxoKsmK",
        "outputId": "c3da7ea1-18de-4c50-b045-1b2dfa2f5504"
      },
      "execution_count": 44,
      "outputs": [
        {
          "output_type": "execute_result",
          "data": {
            "text/plain": [
              "array([0, 0, 3, ..., 4, 4, 0])"
            ]
          },
          "metadata": {},
          "execution_count": 44
        }
      ]
    },
    {
      "cell_type": "code",
      "source": [
        "model_0_results = calculate_results(y_dev, y_pred_0)\n",
        "model_0_results"
      ],
      "metadata": {
        "colab": {
          "base_uri": "https://localhost:8080/"
        },
        "id": "cPUXlpvPK1N5",
        "outputId": "080e0bce-20c7-497d-8dd6-ef1a8933e98c"
      },
      "execution_count": 45,
      "outputs": [
        {
          "output_type": "execute_result",
          "data": {
            "text/plain": [
              "{'accuracy': 76.592082616179,\n",
              " 'precision': 0.7645818346926345,\n",
              " 'recall': 0.76592082616179,\n",
              " 'f1': 0.7648629994981836}"
            ]
          },
          "metadata": {},
          "execution_count": 45
        }
      ]
    },
    {
      "cell_type": "markdown",
      "source": [
        "### **Model_1: CONV1D with token embedding**"
      ],
      "metadata": {
        "id": "Qx6RDn6odh4I"
      }
    },
    {
      "cell_type": "code",
      "source": [
        "from tensorflow.keras import layers"
      ],
      "metadata": {
        "id": "BdISGKa8d1uY"
      },
      "execution_count": 46,
      "outputs": []
    },
    {
      "cell_type": "code",
      "source": [
        "inputs = layers.Input(shape=(1,), dtype = tf.string)\n",
        "text_vec = text_vectorizer(inputs)\n",
        "emb = embeding(text_vec)\n",
        "x = layers.Conv1D(64, kernel_size=5, activation=\"relu\", padding=\"same\")(emb)\n",
        "x = layers.GlobalAveragePooling1D()(x)\n",
        "outputs = layers.Dense(5, activation=\"softmax\")(x)\n",
        "\n",
        "model_1 = tf.keras.Model(inputs, outputs, name='model_1_CONV1D')\n",
        "\n",
        "model_1.compile(loss=\"sparse_categorical_crossentropy\", # if your labels are integer form (not one hot) use sparse_categorical_crossentropy\n",
        "                optimizer=tf.keras.optimizers.Adam(),\n",
        "                metrics=[\"accuracy\"])\n",
        "\n",
        "model_1.summary()"
      ],
      "metadata": {
        "colab": {
          "base_uri": "https://localhost:8080/"
        },
        "id": "_2EJxeGwc74X",
        "outputId": "0c3c9a20-39d6-4826-dd44-1dbe71f7abd0"
      },
      "execution_count": 47,
      "outputs": [
        {
          "output_type": "stream",
          "name": "stdout",
          "text": [
            "Model: \"model_1_CONV1D\"\n",
            "_________________________________________________________________\n",
            " Layer (type)                Output Shape              Param #   \n",
            "=================================================================\n",
            " input_1 (InputLayer)        [(None, 1)]               0         \n",
            "                                                                 \n",
            " text_vectorization (TextVec  (None, 55)               0         \n",
            " torization)                                                     \n",
            "                                                                 \n",
            " embedding (Embedding)       (None, 55, 128)           8704000   \n",
            "                                                                 \n",
            " conv1d (Conv1D)             (None, 55, 64)            41024     \n",
            "                                                                 \n",
            " global_average_pooling1d (G  (None, 64)               0         \n",
            " lobalAveragePooling1D)                                          \n",
            "                                                                 \n",
            " dense (Dense)               (None, 5)                 325       \n",
            "                                                                 \n",
            "=================================================================\n",
            "Total params: 8,745,349\n",
            "Trainable params: 8,745,349\n",
            "Non-trainable params: 0\n",
            "_________________________________________________________________\n"
          ]
        }
      ]
    },
    {
      "cell_type": "code",
      "source": [
        "history_model_1 = model_1.fit(train_dataset,\n",
        "                              epochs=3,\n",
        "                              steps_per_epoch=int(0.5*len(train_dataset)),\n",
        "                              validation_data=test_dataset,\n",
        "                              validation_steps=int(0.1*len(test_dataset))) "
      ],
      "metadata": {
        "colab": {
          "base_uri": "https://localhost:8080/"
        },
        "id": "H0A4HyqGfd5v",
        "outputId": "bfa2b207-bcd6-4106-d55a-625837ab163a"
      },
      "execution_count": 48,
      "outputs": [
        {
          "output_type": "stream",
          "name": "stdout",
          "text": [
            "Epoch 1/3\n",
            "2813/2813 [==============================] - 31s 8ms/step - loss: 0.6716 - accuracy: 0.7512 - val_loss: 0.5511 - val_accuracy: 0.7985\n",
            "Epoch 2/3\n",
            "2813/2813 [==============================] - 22s 8ms/step - loss: 0.5541 - accuracy: 0.8029 - val_loss: 0.5262 - val_accuracy: 0.8068\n",
            "Epoch 3/3\n",
            "   1/2813 [..............................] - ETA: 2:44 - loss: 0.6999 - accuracy: 0.7500"
          ]
        },
        {
          "output_type": "stream",
          "name": "stderr",
          "text": [
            "WARNING:tensorflow:Your input ran out of data; interrupting training. Make sure that your dataset or generator can generate at least `steps_per_epoch * epochs` batches (in this case, 8439 batches). You may need to use the repeat() function when building your dataset.\n"
          ]
        },
        {
          "output_type": "stream",
          "name": "stdout",
          "text": [
            "\b\b\b\b\b\b\b\b\b\b\b\b\b\b\b\b\b\b\b\b\b\b\b\b\b\b\b\b\b\b\b\b\b\b\b\b\b\b\b\b\b\b\b\b\b\b\b\b\b\b\b\b\b\b\b\b\b\b\b\b\b\b\b\b\b\b\b\b\b\b\b\b\b\b\b\b\b\b\b\b\b\b\b\b\b\b\b\b\r2813/2813 [==============================] - 0s 123us/step - loss: 0.6999 - accuracy: 0.7500 - val_loss: 0.5269 - val_accuracy: 0.8072\n"
          ]
        }
      ]
    },
    {
      "cell_type": "code",
      "source": [
        "model_1.evaluate(test_dataset)"
      ],
      "metadata": {
        "colab": {
          "base_uri": "https://localhost:8080/"
        },
        "id": "FR5XAEVohbzp",
        "outputId": "f4b305f5-a4a8-4479-eee7-71b09b7eae60"
      },
      "execution_count": 49,
      "outputs": [
        {
          "output_type": "stream",
          "name": "stdout",
          "text": [
            "942/942 [==============================] - 3s 3ms/step - loss: 0.5490 - accuracy: 0.8036\n"
          ]
        },
        {
          "output_type": "execute_result",
          "data": {
            "text/plain": [
              "[0.5490397810935974, 0.8036170601844788]"
            ]
          },
          "metadata": {},
          "execution_count": 49
        }
      ]
    },
    {
      "cell_type": "code",
      "source": [
        "y_pred_1 = tf.argmax(model_1.predict(dev_sentences), axis=1)\n",
        "y_pred_1[:10] "
      ],
      "metadata": {
        "colab": {
          "base_uri": "https://localhost:8080/"
        },
        "id": "i3QQMCyZh0Ot",
        "outputId": "b96dfcaa-319c-4299-f5d9-e0cb21e7c450"
      },
      "execution_count": 50,
      "outputs": [
        {
          "output_type": "stream",
          "name": "stdout",
          "text": [
            "945/945 [==============================] - 2s 2ms/step\n"
          ]
        },
        {
          "output_type": "execute_result",
          "data": {
            "text/plain": [
              "<tf.Tensor: shape=(10,), dtype=int64, numpy=array([0, 0, 3, 2, 2, 2, 4, 2, 4, 1])>"
            ]
          },
          "metadata": {},
          "execution_count": 50
        }
      ]
    },
    {
      "cell_type": "code",
      "source": [
        "model_1_results = calculate_results(y_dev, y_pred_1)\n",
        "model_1_results"
      ],
      "metadata": {
        "colab": {
          "base_uri": "https://localhost:8080/"
        },
        "id": "lBaYd2_Size5",
        "outputId": "9366da3d-4646-4165-a8e5-512b23759b93"
      },
      "execution_count": 51,
      "outputs": [
        {
          "output_type": "execute_result",
          "data": {
            "text/plain": [
              "{'accuracy': 80.90162849198994,\n",
              " 'precision': 0.8064352088135571,\n",
              " 'recall': 0.8090162849198994,\n",
              " 'f1': 0.8052216948143783}"
            ]
          },
          "metadata": {},
          "execution_count": 51
        }
      ]
    },
    {
      "cell_type": "markdown",
      "source": [
        "### **Mosdel_2: Pretrained Model from Tensorflow_hub**"
      ],
      "metadata": {
        "id": "h4lTtJR24GJu"
      }
    },
    {
      "cell_type": "code",
      "source": [
        "import tensorflow_hub as hub\n",
        "sentence_encoder_layer = hub.KerasLayer(\"https://tfhub.dev/google/universal-sentence-encoder/4\",\n",
        "                                        trainable=False,\n",
        "                                        name=\"USE\")"
      ],
      "metadata": {
        "id": "szrYkCsvq-xG"
      },
      "execution_count": 49,
      "outputs": []
    },
    {
      "cell_type": "code",
      "source": [
        "inputs = layers.Input(shape=[], dtype=tf.string)\n",
        "pretrained_emb = sentence_encoder_layer(inputs)\n",
        "x = layers.Dense(128, activation=\"relu\")(pretrained_emb)\n",
        "outputs = layers.Dense(5, activation=\"softmax\")(x)\n",
        "\n",
        "model_2 = tf.keras.Model(inputs, outputs, name=\"model_2_USE\")\n",
        "\n",
        "model_2.compile(loss=\"sparse_categorical_crossentropy\", # if your labels are one hot encoded use categorical_crossentropy\n",
        "                optimizer=tf.keras.optimizers.Adam(),\n",
        "                metrics=[\"accuracy\"])\n",
        "\n",
        "model_2.summary()"
      ],
      "metadata": {
        "colab": {
          "base_uri": "https://localhost:8080/"
        },
        "id": "PMXRlwpItLum",
        "outputId": "a3c2bfca-defd-407e-e594-964ae111c6a9"
      },
      "execution_count": null,
      "outputs": [
        {
          "output_type": "stream",
          "name": "stdout",
          "text": [
            "Model: \"model_2_USE\"\n",
            "_________________________________________________________________\n",
            " Layer (type)                Output Shape              Param #   \n",
            "=================================================================\n",
            " input_2 (InputLayer)        [(None,)]                 0         \n",
            "                                                                 \n",
            " USE (KerasLayer)            (None, 512)               256797824 \n",
            "                                                                 \n",
            " dense_1 (Dense)             (None, 128)               65664     \n",
            "                                                                 \n",
            " dense_2 (Dense)             (None, 5)                 645       \n",
            "                                                                 \n",
            "=================================================================\n",
            "Total params: 256,864,133\n",
            "Trainable params: 66,309\n",
            "Non-trainable params: 256,797,824\n",
            "_________________________________________________________________\n"
          ]
        }
      ]
    },
    {
      "cell_type": "code",
      "source": [
        "history_model_2 = model_2.fit(train_dataset,\n",
        "                              epochs=3,\n",
        "                              steps_per_epoch=int(0.5*len(train_dataset)),\n",
        "                              validation_data=test_dataset,\n",
        "                              validation_steps=int(0.1*len(test_dataset))\n",
        "                              ) "
      ],
      "metadata": {
        "colab": {
          "base_uri": "https://localhost:8080/"
        },
        "id": "RUSF8enXuHHC",
        "outputId": "459c21e4-2e95-4ba8-f9e8-63170f890d08"
      },
      "execution_count": null,
      "outputs": [
        {
          "output_type": "stream",
          "name": "stdout",
          "text": [
            "Epoch 1/3\n",
            "2813/2813 [==============================] - 36s 11ms/step - loss: 0.7767 - accuracy: 0.7017 - val_loss: 0.7171 - val_accuracy: 0.7231\n",
            "Epoch 2/3\n",
            "2813/2813 [==============================] - 37s 13ms/step - loss: 0.6828 - accuracy: 0.7402 - val_loss: 0.6638 - val_accuracy: 0.7457\n",
            "Epoch 3/3\n",
            "   1/2813 [..............................] - ETA: 41s - loss: 0.7989 - accuracy: 0.6250"
          ]
        },
        {
          "output_type": "stream",
          "name": "stderr",
          "text": [
            "WARNING:tensorflow:Your input ran out of data; interrupting training. Make sure that your dataset or generator can generate at least `steps_per_epoch * epochs` batches (in this case, 8439 batches). You may need to use the repeat() function when building your dataset.\n"
          ]
        },
        {
          "output_type": "stream",
          "name": "stdout",
          "text": [
            "\b\b\b\b\b\b\b\b\b\b\b\b\b\b\b\b\b\b\b\b\b\b\b\b\b\b\b\b\b\b\b\b\b\b\b\b\b\b\b\b\b\b\b\b\b\b\b\b\b\b\b\b\b\b\b\b\b\b\b\b\b\b\b\b\b\b\b\b\b\b\b\b\b\b\b\b\b\b\b\b\b\b\b\b\b\b\b\r2813/2813 [==============================] - 1s 324us/step - loss: 0.7989 - accuracy: 0.6250 - val_loss: 0.6639 - val_accuracy: 0.7473\n"
          ]
        }
      ]
    },
    {
      "cell_type": "code",
      "source": [
        "model_2.evaluate(test_dataset)"
      ],
      "metadata": {
        "colab": {
          "base_uri": "https://localhost:8080/"
        },
        "id": "IJ6lEBcouShe",
        "outputId": "44842578-e879-4ea7-f18c-263de978ad0d"
      },
      "execution_count": null,
      "outputs": [
        {
          "output_type": "stream",
          "name": "stdout",
          "text": [
            "942/942 [==============================] - 11s 11ms/step - loss: 0.6730 - accuracy: 0.7425\n"
          ]
        },
        {
          "output_type": "execute_result",
          "data": {
            "text/plain": [
              "[0.6730337142944336, 0.7425252795219421]"
            ]
          },
          "metadata": {},
          "execution_count": 44
        }
      ]
    },
    {
      "cell_type": "code",
      "source": [
        "y_pred_2 = tf.argmax(model_2.predict(dev_sentences), axis=1)\n",
        "y_pred_2[:10] "
      ],
      "metadata": {
        "colab": {
          "base_uri": "https://localhost:8080/"
        },
        "id": "SmcaQlWf4ZuY",
        "outputId": "ad345e01-14ba-4230-c187-c1dcf47033d5"
      },
      "execution_count": null,
      "outputs": [
        {
          "output_type": "stream",
          "name": "stdout",
          "text": [
            "945/945 [==============================] - 11s 12ms/step\n"
          ]
        },
        {
          "output_type": "execute_result",
          "data": {
            "text/plain": [
              "<tf.Tensor: shape=(10,), dtype=int64, numpy=array([0, 1, 0, 2, 4, 4, 2, 2, 4, 1])>"
            ]
          },
          "metadata": {},
          "execution_count": 45
        }
      ]
    },
    {
      "cell_type": "code",
      "source": [
        "model_2_results = calculate_results(y_dev, y_pred_2)\n",
        "model_2_results"
      ],
      "metadata": {
        "colab": {
          "base_uri": "https://localhost:8080/"
        },
        "id": "CwO2WhJp4Erg",
        "outputId": "b6b87d59-8708-41ef-d646-4e0d9f081637"
      },
      "execution_count": null,
      "outputs": [
        {
          "output_type": "execute_result",
          "data": {
            "text/plain": [
              "{'accuracy': 74.83781278962002,\n",
              " 'precision': 0.7438266113285281,\n",
              " 'recall': 0.7483781278962002,\n",
              " 'f1': 0.7435818778589849}"
            ]
          },
          "metadata": {},
          "execution_count": 46
        }
      ]
    },
    {
      "cell_type": "markdown",
      "source": [
        "### **Model_3:Conv1D with character embedding**\n",
        "\n"
      ],
      "metadata": {
        "id": "9_OcAR1z482E"
      }
    },
    {
      "cell_type": "code",
      "source": [
        "def split_chars(text):\n",
        "  return \" \".join(list(text))"
      ],
      "metadata": {
        "id": "oY1x8osCwUfq"
      },
      "execution_count": 54,
      "outputs": []
    },
    {
      "cell_type": "code",
      "source": [
        "split_chars(train_sentences[1])"
      ],
      "metadata": {
        "colab": {
          "base_uri": "https://localhost:8080/",
          "height": 70
        },
        "id": "SaTRzxMk2k0P",
        "outputId": "59a14843-454c-4cc9-d834-6a6534cb70ec"
      },
      "execution_count": 55,
      "outputs": [
        {
          "output_type": "execute_result",
          "data": {
            "text/plain": [
              "'a   t o t a l   o f   @   p a t i e n t s   w i t h   p r i m a r y   k n e e   o a   w e r e   r a n d o m i z e d   @ : @   ;   @   r e c e i v e d   @   m g / d a y   o f   p r e d n i s o l o n e   a n d   @   r e c e i v e d   p l a c e b o   f o r   @   w e e k s   .'"
            ],
            "application/vnd.google.colaboratory.intrinsic+json": {
              "type": "string"
            }
          },
          "metadata": {},
          "execution_count": 55
        }
      ]
    },
    {
      "cell_type": "code",
      "source": [
        "train_chars = [split_chars(sentence) for sentence in train_sentences]\n",
        "test_chars = [split_chars(sentence) for sentence in test_sentences]\n",
        "dev_chars = [split_chars(sentence) for sentence in dev_sentences]\n",
        "\n",
        "train_chars[:3]"
      ],
      "metadata": {
        "colab": {
          "base_uri": "https://localhost:8080/"
        },
        "id": "shayvksZ2oNd",
        "outputId": "4600b908-b03a-4531-d4f7-1f275c8f57d7"
      },
      "execution_count": 56,
      "outputs": [
        {
          "output_type": "execute_result",
          "data": {
            "text/plain": [
              "['t o   i n v e s t i g a t e   t h e   e f f i c a c y   o f   @   w e e k s   o f   d a i l y   l o w - d o s e   o r a l   p r e d n i s o l o n e   i n   i m p r o v i n g   p a i n   ,   m o b i l i t y   ,   a n d   s y s t e m i c   l o w - g r a d e   i n f l a m m a t i o n   i n   t h e   s h o r t   t e r m   a n d   w h e t h e r   t h e   e f f e c t   w o u l d   b e   s u s t a i n e d   a t   @   w e e k s   i n   o l d e r   a d u l t s   w i t h   m o d e r a t e   t o   s e v e r e   k n e e   o s t e o a r t h r i t i s   (   o a   )   .',\n",
              " 'a   t o t a l   o f   @   p a t i e n t s   w i t h   p r i m a r y   k n e e   o a   w e r e   r a n d o m i z e d   @ : @   ;   @   r e c e i v e d   @   m g / d a y   o f   p r e d n i s o l o n e   a n d   @   r e c e i v e d   p l a c e b o   f o r   @   w e e k s   .',\n",
              " 'o u t c o m e   m e a s u r e s   i n c l u d e d   p a i n   r e d u c t i o n   a n d   i m p r o v e m e n t   i n   f u n c t i o n   s c o r e s   a n d   s y s t e m i c   i n f l a m m a t i o n   m a r k e r s   .']"
            ]
          },
          "metadata": {},
          "execution_count": 56
        }
      ]
    },
    {
      "cell_type": "code",
      "source": [
        "char_len = [len(sentence) for sentence in train_sentences]\n",
        "mean_char_lens = np.mean(char_len)\n",
        "mean_char_lens"
      ],
      "metadata": {
        "colab": {
          "base_uri": "https://localhost:8080/"
        },
        "id": "M5-pzNzn2-f8",
        "outputId": "b01fe261-ae89-4164-cb8a-6c67b92af932"
      },
      "execution_count": 57,
      "outputs": [
        {
          "output_type": "execute_result",
          "data": {
            "text/plain": [
              "149.3662574983337"
            ]
          },
          "metadata": {},
          "execution_count": 57
        }
      ]
    },
    {
      "cell_type": "code",
      "source": [
        "plt.hist(char_len, bins=7);"
      ],
      "metadata": {
        "colab": {
          "base_uri": "https://localhost:8080/",
          "height": 265
        },
        "id": "pshAVR5x3wS-",
        "outputId": "21f9f306-f94c-4b28-b1d1-db040b57c5b5"
      },
      "execution_count": 58,
      "outputs": [
        {
          "output_type": "display_data",
          "data": {
            "text/plain": [
              "<Figure size 432x288 with 1 Axes>"
            ],
            "image/png": "[encoded data removed]"
          },
          "metadata": {
            "needs_background": "light"
          }
        }
      ]
    },
    {
      "cell_type": "code",
      "source": [
        "seq_len = int(np.percentile(char_len, 95))\n",
        "seq_len"
      ],
      "metadata": {
        "colab": {
          "base_uri": "https://localhost:8080/"
        },
        "id": "fCPPTxT44EBA",
        "outputId": "cfa2d96d-1c72-4b6f-941c-6f4052a17dbc"
      },
      "execution_count": 59,
      "outputs": [
        {
          "output_type": "execute_result",
          "data": {
            "text/plain": [
              "290"
            ]
          },
          "metadata": {},
          "execution_count": 59
        }
      ]
    },
    {
      "cell_type": "code",
      "source": [
        "# Get all keyboard characters for char-level embedding\n",
        "import string\n",
        "alphabet = string.ascii_lowercase + string.punctuation\n",
        "alphabet"
      ],
      "metadata": {
        "id": "bd9ODXI74bIa",
        "colab": {
          "base_uri": "https://localhost:8080/",
          "height": 35
        },
        "outputId": "c32eca3d-8a59-4999-c6db-5f16ddecdd65"
      },
      "execution_count": 60,
      "outputs": [
        {
          "output_type": "execute_result",
          "data": {
            "text/plain": [
              "'abcdefghijklmnopqrstuvwxyz!\"#$%&\\'()*+,-./:;<=>?@[\\\\]^_`{|}~'"
            ],
            "application/vnd.google.colaboratory.intrinsic+json": {
              "type": "string"
            }
          },
          "metadata": {},
          "execution_count": 60
        }
      ]
    },
    {
      "cell_type": "code",
      "source": [
        "# Create char-level token vectorizer instance\n",
        "NUM_CHAR_TOKENS = len(alphabet) + 2 # num characters in alphabet + space + OOV token\n",
        "char_vectorizer = TextVectorization(max_tokens=NUM_CHAR_TOKENS,  \n",
        "                                    output_sequence_length=seq_len,\n",
        "                                    standardize=\"lower_and_strip_punctuation\",\n",
        "                                    name=\"char_vectorizer\")\n",
        "\n",
        "# Adapt character vectorizer to training characters\n",
        "char_vectorizer.adapt(train_chars)"
      ],
      "metadata": {
        "id": "-WZNfhi40Lsy"
      },
      "execution_count": 61,
      "outputs": []
    },
    {
      "cell_type": "code",
      "source": [
        "# Check character vocabulary characteristics\n",
        "char_vocab = char_vectorizer.get_vocabulary()\n",
        "print(f\"Number of different characters in character vocab: {len(char_vocab)}\")\n",
        "print(f\"5 most common characters: {char_vocab[:5]}\")\n",
        "print(f\"5 least common characters: {char_vocab[-5:]}\")"
      ],
      "metadata": {
        "colab": {
          "base_uri": "https://localhost:8080/"
        },
        "id": "FheGVpN90QFu",
        "outputId": "135a3f2d-7d79-4151-de91-1f368c86b527"
      },
      "execution_count": 62,
      "outputs": [
        {
          "output_type": "stream",
          "name": "stdout",
          "text": [
            "Number of different characters in character vocab: 28\n",
            "5 most common characters: ['', '[UNK]', 'e', 't', 'i']\n",
            "5 least common characters: ['k', 'x', 'z', 'q', 'j']\n"
          ]
        }
      ]
    },
    {
      "cell_type": "code",
      "source": [
        "# Create char embedding layer\n",
        "char_embed = layers.Embedding(input_dim=NUM_CHAR_TOKENS, # number of different characters\n",
        "                              output_dim=25, # embedding dimension of each character (same as Figure 1 in https://arxiv.org/pdf/1612.05251.pdf)\n",
        "                              mask_zero=False, # don't use masks (this messes up model_5 if set to True)\n",
        "                              name=\"char_embed\")"
      ],
      "metadata": {
        "id": "GgX3O3PN0SOk"
      },
      "execution_count": 63,
      "outputs": []
    },
    {
      "cell_type": "code",
      "source": [
        "# Make Conv1D on chars only\n",
        "inputs = layers.Input(shape=(1,), dtype=\"string\")\n",
        "char_vectors = char_vectorizer(inputs)\n",
        "char_embeddings = char_embed(char_vectors)\n",
        "x = layers.Conv1D(64, kernel_size=5, padding=\"same\", activation=\"relu\")(char_embeddings)\n",
        "x = layers.GlobalMaxPool1D()(x)\n",
        "outputs = layers.Dense(num_classes, activation=\"softmax\")(x)\n",
        "model_3 = tf.keras.Model(inputs=inputs,\n",
        "                         outputs=outputs,\n",
        "                         name=\"model_3_conv1D_char_embedding\")\n",
        "\n",
        "# Compile model\n",
        "model_3.compile(loss=\"sparse_categorical_crossentropy\",\n",
        "                optimizer=tf.keras.optimizers.Adam(),\n",
        "                metrics=[\"accuracy\"])"
      ],
      "metadata": {
        "id": "ecwATK8_0iqy"
      },
      "execution_count": null,
      "outputs": []
    },
    {
      "cell_type": "code",
      "source": [
        "model_3.summary()"
      ],
      "metadata": {
        "colab": {
          "base_uri": "https://localhost:8080/"
        },
        "id": "2RCGfG4A0lWR",
        "outputId": "b0e91857-7f42-4b96-9bb0-3b4507af1d2d"
      },
      "execution_count": null,
      "outputs": [
        {
          "output_type": "stream",
          "name": "stdout",
          "text": [
            "Model: \"model_3_conv1D_char_embedding\"\n",
            "_________________________________________________________________\n",
            " Layer (type)                Output Shape              Param #   \n",
            "=================================================================\n",
            " input_7 (InputLayer)        [(None, 1)]               0         \n",
            "                                                                 \n",
            " char_vectorizer (TextVector  (None, 290)              0         \n",
            " ization)                                                        \n",
            "                                                                 \n",
            " char_embed (Embedding)      (None, 290, 25)           1500      \n",
            "                                                                 \n",
            " conv1d_5 (Conv1D)           (None, 290, 64)           8064      \n",
            "                                                                 \n",
            " global_max_pooling1d_4 (Glo  (None, 64)               0         \n",
            " balMaxPooling1D)                                                \n",
            "                                                                 \n",
            " dense_7 (Dense)             (None, 5)                 325       \n",
            "                                                                 \n",
            "=================================================================\n",
            "Total params: 9,889\n",
            "Trainable params: 9,889\n",
            "Non-trainable params: 0\n",
            "_________________________________________________________________\n"
          ]
        }
      ]
    },
    {
      "cell_type": "code",
      "source": [
        "train_char_dataset = tf.data.Dataset.from_tensor_slices((train_chars, y_train)).batch(32).prefetch(tf.data.AUTOTUNE)\n",
        "test_char_dataset = tf.data.Dataset.from_tensor_slices((test_chars, y_test)).batch(32).prefetch(tf.data.AUTOTUNE)\n",
        "dev_char_dataset = tf.data.Dataset.from_tensor_slices((dev_chars, y_dev)).batch(32).prefetch(tf.data.AUTOTUNE)\n",
        "\n",
        "train_char_dataset"
      ],
      "metadata": {
        "colab": {
          "base_uri": "https://localhost:8080/"
        },
        "id": "8AlRLgQj0pna",
        "outputId": "80e3a4ef-353c-47b6-f625-9ad24e9d7995"
      },
      "execution_count": null,
      "outputs": [
        {
          "output_type": "execute_result",
          "data": {
            "text/plain": [
              "<PrefetchDataset element_spec=(TensorSpec(shape=(None,), dtype=tf.string, name=None), TensorSpec(shape=(None,), dtype=tf.int64, name=None))>"
            ]
          },
          "metadata": {},
          "execution_count": 71
        }
      ]
    },
    {
      "cell_type": "code",
      "source": [
        "# Fit the model on chars only\n",
        "model_3_history = model_3.fit(train_char_dataset,\n",
        "                              steps_per_epoch=int(0.5 * len(train_char_dataset)),\n",
        "                              epochs=3)"
      ],
      "metadata": {
        "colab": {
          "base_uri": "https://localhost:8080/"
        },
        "id": "SHT09cPW0-uD",
        "outputId": "e5677c5d-4abe-486d-83b5-5244f7cafa36"
      },
      "execution_count": null,
      "outputs": [
        {
          "output_type": "stream",
          "name": "stdout",
          "text": [
            "Epoch 1/3\n",
            "2813/2813 [==============================] - 16s 5ms/step - loss: 0.9836 - accuracy: 0.6109\n",
            "Epoch 2/3\n",
            "2813/2813 [==============================] - 19s 7ms/step - loss: 0.8034 - accuracy: 0.6907\n",
            "Epoch 3/3\n",
            "   1/2813 [..............................] - ETA: 1:29 - loss: 1.0267 - accuracy: 0.5000"
          ]
        },
        {
          "output_type": "stream",
          "name": "stderr",
          "text": [
            "WARNING:tensorflow:Your input ran out of data; interrupting training. Make sure that your dataset or generator can generate at least `steps_per_epoch * epochs` batches (in this case, 8439 batches). You may need to use the repeat() function when building your dataset.\n"
          ]
        },
        {
          "output_type": "stream",
          "name": "stdout",
          "text": [
            "\b\b\b\b\b\b\b\b\b\b\b\b\b\b\b\b\b\b\b\b\b\b\b\b\b\b\b\b\b\b\b\b\b\b\b\b\b\b\b\b\b\b\b\b\b\b\b\b\b\b\b\b\b\b\b\b\b\b\b\b\b\b\b\b\b\b\b\b\b\b\b\b\b\b\b\b\b\b\b\b\b\b\b\b\b\b\b\b\r2813/2813 [==============================] - 0s 10us/step - loss: 1.0267 - accuracy: 0.5000\n"
          ]
        }
      ]
    },
    {
      "cell_type": "code",
      "source": [
        "model_3.evaluate(test_char_dataset)"
      ],
      "metadata": {
        "colab": {
          "base_uri": "https://localhost:8080/"
        },
        "id": "ItlvVbPF1cN-",
        "outputId": "4ce5b0ab-6ba8-450f-e69b-41a6c9be3eba"
      },
      "execution_count": null,
      "outputs": [
        {
          "output_type": "stream",
          "name": "stdout",
          "text": [
            "942/942 [==============================] - 5s 4ms/step - loss: 0.7914 - accuracy: 0.6943\n"
          ]
        },
        {
          "output_type": "execute_result",
          "data": {
            "text/plain": [
              "[0.7913553714752197, 0.6943421363830566]"
            ]
          },
          "metadata": {},
          "execution_count": 73
        }
      ]
    },
    {
      "cell_type": "markdown",
      "source": [
        "### **Modele 4: Bidirectional LSTM with token embedding**"
      ],
      "metadata": {
        "id": "0OOLz3bN1vs1"
      }
    },
    {
      "cell_type": "code",
      "source": [
        "inputs = layers.Input(shape=(1,), dtype=tf.string)\n",
        "x = text_vectorizer(inputs)\n",
        "x = embeding(x)\n",
        "x = layers.Bidirectional(layers.LSTM(64))(x)\n",
        "outputs = layers.Dense(5, activation=\"softmax\")(x)\n",
        "\n",
        "model_4 = tf.keras.Model(inputs, outputs, name=\"model_4_Bidirectionel\")\n",
        "\n",
        "model_4.compile(loss=\"sparse_categorical_crossentropy\",\n",
        "                optimizer=\"adam\",\n",
        "                metrics=['accuracy'])\n",
        "model_4.summary()"
      ],
      "metadata": {
        "colab": {
          "base_uri": "https://localhost:8080/"
        },
        "id": "aMiWuLF_1vbd",
        "outputId": "5b0a4df6-614e-4f2c-9ecf-fcc903624bee"
      },
      "execution_count": null,
      "outputs": [
        {
          "output_type": "stream",
          "name": "stdout",
          "text": [
            "Model: \"model_4_Bidirectionel\"\n",
            "_________________________________________________________________\n",
            " Layer (type)                Output Shape              Param #   \n",
            "=================================================================\n",
            " input_12 (InputLayer)       [(None, 1)]               0         \n",
            "                                                                 \n",
            " text_vectorization (TextVec  (None, 55)               0         \n",
            " torization)                                                     \n",
            "                                                                 \n",
            " embedding (Embedding)       (None, 55, 128)           8704000   \n",
            "                                                                 \n",
            " bidirectional_4 (Bidirectio  (None, 128)              98816     \n",
            " nal)                                                            \n",
            "                                                                 \n",
            " dense_12 (Dense)            (None, 5)                 645       \n",
            "                                                                 \n",
            "=================================================================\n",
            "Total params: 8,803,461\n",
            "Trainable params: 8,803,461\n",
            "Non-trainable params: 0\n",
            "_________________________________________________________________\n"
          ]
        }
      ]
    },
    {
      "cell_type": "code",
      "source": [
        "model_4_history = model_4.fit(train_dataset,\n",
        "                              steps_per_epoch=int(0.3 * len(train_char_dataset)),\n",
        "                              epochs=3)"
      ],
      "metadata": {
        "colab": {
          "base_uri": "https://localhost:8080/"
        },
        "id": "n4kBCb-E1tsx",
        "outputId": "fefd3fff-cd0f-43a8-b5e3-276b5ac0b41e"
      },
      "execution_count": null,
      "outputs": [
        {
          "output_type": "stream",
          "name": "stdout",
          "text": [
            "Epoch 1/3\n",
            "1688/1688 [==============================] - 48s 24ms/step - loss: 0.4840 - accuracy: 0.8234\n",
            "Epoch 2/3\n",
            "1688/1688 [==============================] - 43s 25ms/step - loss: 0.4358 - accuracy: 0.8439\n",
            "Epoch 3/3\n",
            "1688/1688 [==============================] - 48s 28ms/step - loss: 0.4158 - accuracy: 0.8505\n"
          ]
        }
      ]
    },
    {
      "cell_type": "code",
      "source": [
        "model_4.evaluate(test_dataset)"
      ],
      "metadata": {
        "colab": {
          "base_uri": "https://localhost:8080/"
        },
        "id": "pY89Hh542Xl-",
        "outputId": "313c3284-c55b-48b6-b5c6-6cc30dfcd328"
      },
      "execution_count": null,
      "outputs": [
        {
          "output_type": "stream",
          "name": "stdout",
          "text": [
            "942/942 [==============================] - 15s 12ms/step - loss: 0.5155 - accuracy: 0.8138\n"
          ]
        },
        {
          "output_type": "execute_result",
          "data": {
            "text/plain": [
              "[0.5154519081115723, 0.813804566860199]"
            ]
          },
          "metadata": {},
          "execution_count": 93
        }
      ]
    },
    {
      "cell_type": "code",
      "source": [
        "y_pred_4 = tf.argmax(model_4.predict(dev_dataset), axis=1)\n",
        "y_pred_4[:10] "
      ],
      "metadata": {
        "colab": {
          "base_uri": "https://localhost:8080/"
        },
        "id": "lE5idlyc2cBR",
        "outputId": "528d0f4f-dee5-4fc1-b83b-8c135908f62c"
      },
      "execution_count": null,
      "outputs": [
        {
          "output_type": "stream",
          "name": "stdout",
          "text": [
            "945/945 [==============================] - 10s 8ms/step\n"
          ]
        },
        {
          "output_type": "execute_result",
          "data": {
            "text/plain": [
              "<tf.Tensor: shape=(10,), dtype=int64, numpy=array([0, 1, 0, 2, 4, 4, 2, 2, 4, 1])>"
            ]
          },
          "metadata": {},
          "execution_count": 94
        }
      ]
    },
    {
      "cell_type": "code",
      "source": [
        "# The best Model So far\n",
        "model_4_results = calculate_results(y_dev, y_pred_4)\n",
        "model_4_results"
      ],
      "metadata": {
        "colab": {
          "base_uri": "https://localhost:8080/"
        },
        "id": "ZdWUD4xA26ij",
        "outputId": "23aafb2a-396d-4a0f-ae73-bbb9d057dbdc"
      },
      "execution_count": null,
      "outputs": [
        {
          "output_type": "execute_result",
          "data": {
            "text/plain": [
              "{'accuracy': 81.89130146961472,\n",
              " 'precision': 0.8233291667381545,\n",
              " 'recall': 0.8189130146961472,\n",
              " 'f1': 0.8145069218169505}"
            ]
          },
          "metadata": {},
          "execution_count": 95
        }
      ]
    },
    {
      "cell_type": "markdown",
      "source": [
        "### **Model 5: Combining pretrained token embeddings + character embeddings (hybrid embedding layer)**"
      ],
      "metadata": {
        "id": "Ut3mdQCM3aSR"
      }
    },
    {
      "cell_type": "code",
      "source": [
        "#Create token model\n",
        "token_input = layers.Input(shape=[], dtype=tf.string)\n",
        "token_vector =  sentence_encoder_layer(token_input)\n",
        "token_dense = layers.Dense(128, activation=\"relu\")(token_vector)\n",
        "token_model = tf.keras.Model(token_input, token_dense)\n",
        "\n",
        "#Create char model\n",
        "char_input = layers.Input(shape=(1,), dtype=\"string\")\n",
        "char_vectors = char_vectorizer(char_input)\n",
        "char_embeddings = char_embed(char_vectors)\n",
        "char_lstm = layers.Bidirectional(layers.LSTM(25))(char_embeddings)\n",
        "char_model = tf.keras.Model(char_input, char_lstm)\n",
        "\n",
        "#Concatanate the models \n",
        "token_char_combine = layers.Concatenate(name=\"token_char_concate\")([token_model.output,\n",
        "                                                                     char_model.output])\n",
        "\n",
        "#Create Output layers\n",
        "dropout_1 = layers.Dropout(0.5)(token_char_combine) # They used DropOut in the paper\n",
        "combined_dense = layers.Dense(200, activation=\"relu\")(dropout_1)\n",
        "dropout_2 = layers.Dropout(0.5)(combined_dense)\n",
        "output_layer = layers.Dense(num_classes, activation=\"softmax\")(dropout_2)\n",
        "\n",
        "#Create The model\n",
        "model_5 = tf.keras.Model(inputs = [token_model.input,char_model.input],\n",
        "                         outputs = output_layer,\n",
        "                         name=\"model_4_token_and_char_embeddings\")\n",
        "\n",
        "model_5.compile(loss=\"sparse_categorical_crossentropy\",\n",
        "                optimizer=\"adam\",\n",
        "                metrics=['accuracy'])\n",
        "model_5.summary()"
      ],
      "metadata": {
        "colab": {
          "base_uri": "https://localhost:8080/"
        },
        "id": "0aOtOcY829dK",
        "outputId": "ec98a297-a5ab-4388-d681-d970ecc5e83a"
      },
      "execution_count": null,
      "outputs": [
        {
          "output_type": "stream",
          "name": "stdout",
          "text": [
            "Model: \"model_4_token_and_char_embeddings\"\n",
            "__________________________________________________________________________________________________\n",
            " Layer (type)                   Output Shape         Param #     Connected to                     \n",
            "==================================================================================================\n",
            " input_20 (InputLayer)          [(None, 1)]          0           []                               \n",
            "                                                                                                  \n",
            " input_19 (InputLayer)          [(None,)]            0           []                               \n",
            "                                                                                                  \n",
            " char_vectorizer (TextVectoriza  (None, 290)         0           ['input_20[0][0]']               \n",
            " tion)                                                                                            \n",
            "                                                                                                  \n",
            " USE (KerasLayer)               (None, 512)          256797824   ['input_19[0][0]']               \n",
            "                                                                                                  \n",
            " char_embed (Embedding)         (None, 290, 25)      1500        ['char_vectorizer[8][0]']        \n",
            "                                                                                                  \n",
            " dense_18 (Dense)               (None, 128)          65664       ['USE[4][0]']                    \n",
            "                                                                                                  \n",
            " bidirectional_6 (Bidirectional  (None, 50)          10200       ['char_embed[8][0]']             \n",
            " )                                                                                                \n",
            "                                                                                                  \n",
            " token_char_concate (Concatenat  (None, 178)         0           ['dense_18[0][0]',               \n",
            " e)                                                               'bidirectional_6[0][0]']        \n",
            "                                                                                                  \n",
            " dropout_2 (Dropout)            (None, 178)          0           ['token_char_concate[0][0]']     \n",
            "                                                                                                  \n",
            " dense_19 (Dense)               (None, 200)          35800       ['dropout_2[0][0]']              \n",
            "                                                                                                  \n",
            " dropout_3 (Dropout)            (None, 200)          0           ['dense_19[0][0]']               \n",
            "                                                                                                  \n",
            " dense_20 (Dense)               (None, 5)            1005        ['dropout_3[0][0]']              \n",
            "                                                                                                  \n",
            "==================================================================================================\n",
            "Total params: 256,911,993\n",
            "Trainable params: 114,169\n",
            "Non-trainable params: 256,797,824\n",
            "__________________________________________________________________________________________________\n"
          ]
        }
      ]
    },
    {
      "cell_type": "code",
      "source": [
        "# Plot hybrid token and character model\n",
        "from tensorflow.keras.utils import plot_model\n",
        "plot_model(model_5,show_shapes=True)"
      ],
      "metadata": {
        "colab": {
          "base_uri": "https://localhost:8080/",
          "height": 976
        },
        "id": "rSQLtDDm9rB1",
        "outputId": "20a18d0a-6f17-47f9-a43c-fa4c3fc63ab9"
      },
      "execution_count": null,
      "outputs": [
        {
          "output_type": "execute_result",
          "data": {
            "image/png": "[encoded data removed]",
            "text/plain": [
              "<IPython.core.display.Image object>"
            ]
          },
          "metadata": {},
          "execution_count": 101
        }
      ]
    },
    {
      "cell_type": "code",
      "source": [
        "train_token_char_data = tf.data.Dataset.from_tensor_slices((train_sentences, train_chars))\n",
        "train_token_char_labels = tf.data.Dataset.from_tensor_slices(y_train)\n",
        "train_token_char_dataset = tf.data.Dataset.zip((train_token_char_data, train_token_char_labels))\n",
        "train_token_char_dataset = train_token_char_dataset.batch(32).prefetch(tf.data.AUTOTUNE)\n",
        "\n",
        "test_token_char_data = tf.data.Dataset.from_tensor_slices((test_sentences, test_chars))\n",
        "test_token_char_labels = tf.data.Dataset.from_tensor_slices(y_test)\n",
        "test_token_char_dataset = tf.data.Dataset.zip((test_token_char_data, test_token_char_labels))\n",
        "test_token_char_dataset = train_token_char_dataset.batch(32).prefetch(tf.data.AUTOTUNE)\n",
        "\n",
        "dev_token_char_data = tf.data.Dataset.from_tensor_slices((dev_sentences, dev_chars))\n",
        "dev_token_char_labels = tf.data.Dataset.from_tensor_slices(y_dev)\n",
        "dev_token_char_dataset = tf.data.Dataset.zip((dev_token_char_data, dev_token_char_labels))\n",
        "dev_token_char_dataset = dev_token_char_dataset.batch(32).prefetch(tf.data.AUTOTUNE)\n",
        "\n",
        "train_token_char_dataset"
      ],
      "metadata": {
        "colab": {
          "base_uri": "https://localhost:8080/"
        },
        "id": "H2M3L86E-XOU",
        "outputId": "9000a724-d41d-4e79-f687-bfda198bd2ff"
      },
      "execution_count": null,
      "outputs": [
        {
          "output_type": "execute_result",
          "data": {
            "text/plain": [
              "<PrefetchDataset element_spec=((TensorSpec(shape=(None,), dtype=tf.string, name=None), TensorSpec(shape=(None,), dtype=tf.string, name=None)), TensorSpec(shape=(None,), dtype=tf.int64, name=None))>"
            ]
          },
          "metadata": {},
          "execution_count": 102
        }
      ]
    },
    {
      "cell_type": "code",
      "source": [
        "model_5_history = model_5.fit(train_token_char_dataset,\n",
        "                              steps_per_epoch=int(0.3 * len(train_token_char_dataset)),\n",
        "                              epochs=3)"
      ],
      "metadata": {
        "colab": {
          "base_uri": "https://localhost:8080/"
        },
        "id": "mTXuKVvQ_q0g",
        "outputId": "f2782df9-d77f-49f4-cfc7-b075ef0c454b"
      },
      "execution_count": null,
      "outputs": [
        {
          "output_type": "stream",
          "name": "stdout",
          "text": [
            "Epoch 1/3\n",
            "1688/1688 [==============================] - 63s 35ms/step - loss: 0.8420 - accuracy: 0.6737\n",
            "Epoch 2/3\n",
            "1688/1688 [==============================] - 59s 35ms/step - loss: 0.7354 - accuracy: 0.7197\n",
            "Epoch 3/3\n",
            "1688/1688 [==============================] - 52s 31ms/step - loss: 0.7018 - accuracy: 0.7334\n"
          ]
        }
      ]
    },
    {
      "cell_type": "code",
      "source": [
        "y_pred_5 = tf.argmax(model_5.predict(dev_token_char_dataset), axis=1)\n",
        "y_pred_5[:10] "
      ],
      "metadata": {
        "colab": {
          "base_uri": "https://localhost:8080/"
        },
        "id": "dzjCHX4nAjMp",
        "outputId": "8ecc0b4e-e21b-4c74-c3c1-9d9d86a5d255"
      },
      "execution_count": null,
      "outputs": [
        {
          "output_type": "stream",
          "name": "stdout",
          "text": [
            "945/945 [==============================] - 20s 20ms/step\n"
          ]
        },
        {
          "output_type": "execute_result",
          "data": {
            "text/plain": [
              "<tf.Tensor: shape=(10,), dtype=int64, numpy=array([0, 1, 0, 2, 2, 2, 2, 2, 4, 1])>"
            ]
          },
          "metadata": {},
          "execution_count": 105
        }
      ]
    },
    {
      "cell_type": "code",
      "source": [
        "model_5_results = calculate_results(y_dev, y_pred_5)\n",
        "model_5_results"
      ],
      "metadata": {
        "colab": {
          "base_uri": "https://localhost:8080/"
        },
        "id": "JAAAg8R9Aqaz",
        "outputId": "5b072872-58ce-4f66-982a-d080b6d2f39a"
      },
      "execution_count": null,
      "outputs": [
        {
          "output_type": "execute_result",
          "data": {
            "text/plain": [
              "{'accuracy': 75.79438633655501,\n",
              " 'precision': 0.763293583504699,\n",
              " 'recall': 0.7579438633655501,\n",
              " 'f1': 0.7525632767823732}"
            ]
          },
          "metadata": {},
          "execution_count": 106
        }
      ]
    },
    {
      "cell_type": "markdown",
      "source": [
        "### **Model 6: Transfer Learning with pretrained token embeddings + character embeddings + positional embeddings**"
      ],
      "metadata": {
        "id": "_AxIKqLmBjty"
      }
    },
    {
      "cell_type": "code",
      "source": [
        "train_df[\"num_line\"].value_counts()"
      ],
      "metadata": {
        "id": "wpaCmIWqAvvg",
        "colab": {
          "base_uri": "https://localhost:8080/"
        },
        "outputId": "ac13278f-1545-4f24-dfe4-f886e27a1509"
      },
      "execution_count": 35,
      "outputs": [
        {
          "output_type": "execute_result",
          "data": {
            "text/plain": [
              "0     15000\n",
              "1     15000\n",
              "2     15000\n",
              "3     15000\n",
              "4     14992\n",
              "5     14949\n",
              "6     14758\n",
              "7     14279\n",
              "8     13346\n",
              "9     11981\n",
              "10    10041\n",
              "11     7892\n",
              "12     5853\n",
              "13     4152\n",
              "14     2835\n",
              "15     1861\n",
              "16     1188\n",
              "17      751\n",
              "18      462\n",
              "19      286\n",
              "20      162\n",
              "21      101\n",
              "22       66\n",
              "23       33\n",
              "24       22\n",
              "25       14\n",
              "26        7\n",
              "27        4\n",
              "28        3\n",
              "29        1\n",
              "30        1\n",
              "Name: num_line, dtype: int64"
            ]
          },
          "metadata": {},
          "execution_count": 35
        }
      ]
    },
    {
      "cell_type": "code",
      "source": [
        "train_df.num_line.plot.hist(bins=15)"
      ],
      "metadata": {
        "colab": {
          "base_uri": "https://localhost:8080/",
          "height": 282
        },
        "id": "Gy6RYSwlTQVY",
        "outputId": "f6e84a37-7785-4c65-8ef4-7fc99d4d05ca"
      },
      "execution_count": 36,
      "outputs": [
        {
          "output_type": "execute_result",
          "data": {
            "text/plain": [
              "<matplotlib.axes._subplots.AxesSubplot at 0x7f64f22e4c10>"
            ]
          },
          "metadata": {},
          "execution_count": 36
        },
        {
          "output_type": "display_data",
          "data": {
            "text/plain": [
              "<Figure size 432x288 with 1 Axes>"
            ],
            "image/png": "[encoded data removed]"
          },
          "metadata": {
            "needs_background": "light"
          }
        }
      ]
    },
    {
      "cell_type": "code",
      "source": [
        "import numpy as np\n",
        "np.percentile(train_df.num_line, 98)"
      ],
      "metadata": {
        "colab": {
          "base_uri": "https://localhost:8080/"
        },
        "id": "FivhEaywTxfG",
        "outputId": "13eaa555-22ca-40a3-9abf-ad93c7ada347"
      },
      "execution_count": 37,
      "outputs": [
        {
          "output_type": "execute_result",
          "data": {
            "text/plain": [
              "15.0"
            ]
          },
          "metadata": {},
          "execution_count": 37
        }
      ]
    },
    {
      "cell_type": "code",
      "source": [
        "train_df[\"total_lines\"].plot.hist()"
      ],
      "metadata": {
        "colab": {
          "base_uri": "https://localhost:8080/",
          "height": 284
        },
        "id": "QiPQ8KAWZNPt",
        "outputId": "6af852e3-5851-4f95-fbe5-06d796f3a20d"
      },
      "execution_count": 39,
      "outputs": [
        {
          "output_type": "execute_result",
          "data": {
            "text/plain": [
              "<matplotlib.axes._subplots.AxesSubplot at 0x7f64d85cd890>"
            ]
          },
          "metadata": {},
          "execution_count": 39
        },
        {
          "output_type": "display_data",
          "data": {
            "text/plain": [
              "<Figure size 432x288 with 1 Axes>"
            ],
            "image/png": "[encoded data removed]"
          },
          "metadata": {
            "needs_background": "light"
          }
        }
      ]
    },
    {
      "cell_type": "code",
      "source": [
        "np.percentile(train_df.total_lines, 97)"
      ],
      "metadata": {
        "colab": {
          "base_uri": "https://localhost:8080/"
        },
        "id": "R8hbkDIFZVKm",
        "outputId": "e923cb22-f90d-4e45-8da1-c8e5111457e8"
      },
      "execution_count": 44,
      "outputs": [
        {
          "output_type": "execute_result",
          "data": {
            "text/plain": [
              "20.0"
            ]
          },
          "metadata": {},
          "execution_count": 44
        }
      ]
    },
    {
      "cell_type": "code",
      "source": [
        "train_one_hot_num_lines = tf.one_hot(train_df[\"num_line\"].to_numpy(), depth=15)\n",
        "test_one_hot_num_lines = tf.one_hot(test_df[\"num_line\"].to_numpy(), depth=15)\n",
        "dev_one_hot_num_lines = tf.one_hot(dev_df[\"num_line\"].to_numpy(), depth=15)\n",
        "\n",
        "train_one_hot_total_lines = tf.one_hot(train_df[\"total_lines\"].to_numpy(), depth=20)\n",
        "test_one_hot_total_lines = tf.one_hot(test_df[\"total_lines\"].to_numpy(), depth=20)\n",
        "dev_one_hot_total_lines = tf.one_hot(dev_df[\"total_lines\"].to_numpy(), depth=20)\n",
        "\n",
        "train_one_hot_num_lines.shape, train_one_hot_total_lines.shape"
      ],
      "metadata": {
        "colab": {
          "base_uri": "https://localhost:8080/"
        },
        "id": "fiO3UJ41Zdu5",
        "outputId": "dc2d6dca-5ade-456f-e397-c7a4f192592e"
      },
      "execution_count": 45,
      "outputs": [
        {
          "output_type": "execute_result",
          "data": {
            "text/plain": [
              "(TensorShape([180040, 15]), TensorShape([180040, 20]))"
            ]
          },
          "metadata": {},
          "execution_count": 45
        }
      ]
    },
    {
      "cell_type": "code",
      "source": [
        "import tensorflow as tf\n",
        "from tensorflow.keras import layers"
      ],
      "metadata": {
        "id": "ehtcnJRwdH4C"
      },
      "execution_count": 47,
      "outputs": []
    },
    {
      "cell_type": "code",
      "source": [
        "# Token model\n",
        "token_input = layers.Input(shape=[], dtype=tf.string)\n",
        "token_vector =  sentence_encoder_layer(token_input)\n",
        "token_dense = layers.Dense(128, activation=\"relu\")(token_vector)\n",
        "token_model = tf.keras.Model(token_input, token_dense)\n",
        "\n",
        "# Char Model\n",
        "char_input = layers.Input(shape=(1,), dtype=\"string\")\n",
        "char_vectors = char_vectorizer(char_input)\n",
        "char_embeddings = char_embed(char_vectors)\n",
        "char_lstm = layers.Bidirectional(layers.LSTM(25))(char_embeddings)\n",
        "char_model = tf.keras.Model(char_input, char_lstm)\n",
        "\n",
        "# num_line model\n",
        "num_line_input = layers.Input(shape=(15,) ,dtype=tf.float32)\n",
        "x = layers.Dense(32, activation=\"relu\")(num_line_input)\n",
        "num_line_model = tf.keras.Model(num_line_input,x)\n",
        "\n",
        "# total_line model\n",
        "total_line_input = layers.Input(shape=(20,) ,dtype=tf.float32)\n",
        "y = layers.Dense(32, activation=\"relu\")(total_line_input)\n",
        "total_line_model = tf.keras.Model(total_line_input,y)\n",
        "\n",
        "#combine token and char\n",
        "token_char_combined = layers.Concatenate(name=\"token_char_concate\")([token_model.output,\n",
        "                                                                     char_model.output])\n",
        "z = layers.Dense(256, activation=\"relu\")(token_char_combined)\n",
        "z = layers.Dropout(0.5)(z) # From the paper\n",
        "\n",
        "# Combine the num_line, total_line with token_char_combined\n",
        "last_combine = layers.Concatenate(name=\"last_combine\")([num_line_model.output,\n",
        "                                                        total_line_model.output,\n",
        "                                                        z])\n",
        "\n",
        "# output layer\n",
        "output = layers.Dense(5, activation=\"softmax\")(last_combine)\n",
        "\n",
        "# Build the model\n",
        "model_6 = tf.keras.Model(inputs=[token_model.input,\n",
        "                                 char_model.input,\n",
        "                                 num_line_model.input,\n",
        "                                 total_line_model.input],\n",
        "                         outputs=output)\n",
        "\n",
        "model_6.summary()"
      ],
      "metadata": {
        "colab": {
          "base_uri": "https://localhost:8080/"
        },
        "id": "1PrBsSOvabii",
        "outputId": "50b5f058-f0a9-40ac-8403-9a882f103126"
      },
      "execution_count": 66,
      "outputs": [
        {
          "output_type": "stream",
          "name": "stdout",
          "text": [
            "Model: \"model_13\"\n",
            "__________________________________________________________________________________________________\n",
            " Layer (type)                   Output Shape         Param #     Connected to                     \n",
            "==================================================================================================\n",
            " input_13 (InputLayer)          [(None, 1)]          0           []                               \n",
            "                                                                                                  \n",
            " input_12 (InputLayer)          [(None,)]            0           []                               \n",
            "                                                                                                  \n",
            " char_vectorizer (TextVectoriza  (None, 290)         0           ['input_13[0][0]']               \n",
            " tion)                                                                                            \n",
            "                                                                                                  \n",
            " USE (KerasLayer)               (None, 512)          256797824   ['input_12[0][0]']               \n",
            "                                                                                                  \n",
            " char_embed (Embedding)         (None, 290, 25)      1500        ['char_vectorizer[2][0]']        \n",
            "                                                                                                  \n",
            " dense_8 (Dense)                (None, 128)          65664       ['USE[3][0]']                    \n",
            "                                                                                                  \n",
            " bidirectional_2 (Bidirectional  (None, 50)          10200       ['char_embed[2][0]']             \n",
            " )                                                                                                \n",
            "                                                                                                  \n",
            " token_char_concate (Concatenat  (None, 178)         0           ['dense_8[0][0]',                \n",
            " e)                                                               'bidirectional_2[0][0]']        \n",
            "                                                                                                  \n",
            " input_14 (InputLayer)          [(None, 15)]         0           []                               \n",
            "                                                                                                  \n",
            " input_15 (InputLayer)          [(None, 20)]         0           []                               \n",
            "                                                                                                  \n",
            " dense_11 (Dense)               (None, 256)          45824       ['token_char_concate[0][0]']     \n",
            "                                                                                                  \n",
            " dense_9 (Dense)                (None, 32)           512         ['input_14[0][0]']               \n",
            "                                                                                                  \n",
            " dense_10 (Dense)               (None, 32)           672         ['input_15[0][0]']               \n",
            "                                                                                                  \n",
            " dropout_1 (Dropout)            (None, 256)          0           ['dense_11[0][0]']               \n",
            "                                                                                                  \n",
            " last_combine (Concatenate)     (None, 320)          0           ['dense_9[0][0]',                \n",
            "                                                                  'dense_10[0][0]',               \n",
            "                                                                  'dropout_1[0][0]']              \n",
            "                                                                                                  \n",
            " dense_12 (Dense)               (None, 5)            1605        ['last_combine[0][0]']           \n",
            "                                                                                                  \n",
            "==================================================================================================\n",
            "Total params: 256,923,801\n",
            "Trainable params: 125,977\n",
            "Non-trainable params: 256,797,824\n",
            "__________________________________________________________________________________________________\n"
          ]
        }
      ]
    },
    {
      "cell_type": "code",
      "source": [
        "from tensorflow.keras.utils import plot_model\n",
        "plot_model(model_6,show_shapes=True)"
      ],
      "metadata": {
        "colab": {
          "base_uri": "https://localhost:8080/",
          "height": 697
        },
        "id": "FUOWBXOpdABc",
        "outputId": "e34731d5-a9dc-41e8-8e8c-f526cd640cc1"
      },
      "execution_count": 67,
      "outputs": [
        {
          "output_type": "execute_result",
          "data": {
            "image/png": "[encoded data removed]",
            "text/plain": [
              "<IPython.core.display.Image object>"
            ]
          },
          "metadata": {},
          "execution_count": 67
        }
      ]
    },
    {
      "cell_type": "code",
      "source": [
        "model_6.compile(loss=tf.keras.losses.CategoricalCrossentropy(label_smoothing=0.2),\n",
        "                optimizer=\"adam\",\n",
        "                metrics=['accuracy'])"
      ],
      "metadata": {
        "id": "B55WVJlZeYsl"
      },
      "execution_count": 69,
      "outputs": []
    },
    {
      "cell_type": "code",
      "source": [
        "train_token_char_data = tf.data.Dataset.from_tensor_slices((train_sentences,\n",
        "                                                            train_chars,\n",
        "                                                            train_one_hot_num_lines,\n",
        "                                                            train_one_hot_total_lines))\n",
        "train_token_char_labels = tf.data.Dataset.from_tensor_slices(y_train_one)\n",
        "train_token_char_lines_dataset = tf.data.Dataset.zip((train_token_char_data, train_token_char_labels))\n",
        "train_token_char_lines_dataset = train_token_char_lines_dataset.batch(32).prefetch(tf.data.AUTOTUNE)\n",
        "\n",
        "test_token_char_data = tf.data.Dataset.from_tensor_slices((test_sentences,\n",
        "                                                            test_chars,\n",
        "                                                            test_one_hot_num_lines,\n",
        "                                                            test_one_hot_total_lines))\n",
        "test_token_char_labels = tf.data.Dataset.from_tensor_slices(y_test_one)\n",
        "test_token_char_lines_dataset = tf.data.Dataset.zip((test_token_char_data, test_token_char_labels))\n",
        "test_token_char_lines_dataset = test_token_char_lines_dataset.batch(32).prefetch(tf.data.AUTOTUNE)\n",
        "\n",
        "dev_token_char_data = tf.data.Dataset.from_tensor_slices((dev_sentences,\n",
        "                                                            dev_chars,\n",
        "                                                            dev_one_hot_num_lines,\n",
        "                                                            dev_one_hot_total_lines))\n",
        "dev_token_char_labels = tf.data.Dataset.from_tensor_slices(y_dev_one)\n",
        "dev_token_char_lines_dataset = tf.data.Dataset.zip((dev_token_char_data, dev_token_char_labels))\n",
        "dev_token_char_lines_dataset = dev_token_char_lines_dataset.batch(32).prefetch(tf.data.AUTOTUNE)\n"
      ],
      "metadata": {
        "id": "CD9KAyZLhpFi"
      },
      "execution_count": 71,
      "outputs": []
    },
    {
      "cell_type": "code",
      "source": [
        "model_6_history = model_6.fit(train_token_char_lines_dataset,\n",
        "                              steps_per_epoch=int(0.3 * len(train_token_char_lines_dataset)),\n",
        "                              epochs=3)"
      ],
      "metadata": {
        "colab": {
          "base_uri": "https://localhost:8080/"
        },
        "id": "JBVMq938id1v",
        "outputId": "11dd8239-8609-4c00-9178-19a4ae49f29d"
      },
      "execution_count": 73,
      "outputs": [
        {
          "output_type": "stream",
          "name": "stdout",
          "text": [
            "Epoch 1/3\n",
            "1688/1688 [==============================] - 61s 30ms/step - loss: 1.0100 - accuracy: 0.7813\n",
            "Epoch 2/3\n",
            "1688/1688 [==============================] - 64s 38ms/step - loss: 0.9401 - accuracy: 0.8331\n",
            "Epoch 3/3\n",
            "1688/1688 [==============================] - 58s 34ms/step - loss: 0.9271 - accuracy: 0.8409\n"
          ]
        }
      ]
    },
    {
      "cell_type": "code",
      "source": [
        "model_6.evaluate(test_token_char_lines_dataset)"
      ],
      "metadata": {
        "colab": {
          "base_uri": "https://localhost:8080/"
        },
        "id": "QGsP7DAjjVl-",
        "outputId": "b5564661-83f6-423e-e3a9-72cf86ca912b"
      },
      "execution_count": 74,
      "outputs": [
        {
          "output_type": "stream",
          "name": "stdout",
          "text": [
            "942/942 [==============================] - 20s 20ms/step - loss: 0.9224 - accuracy: 0.8427\n"
          ]
        },
        {
          "output_type": "execute_result",
          "data": {
            "text/plain": [
              "[0.9223992824554443, 0.8427410125732422]"
            ]
          },
          "metadata": {},
          "execution_count": 74
        }
      ]
    },
    {
      "cell_type": "code",
      "source": [
        "y_pred_6 = tf.argmax(model_6.predict(dev_token_char_lines_dataset), axis=1)\n",
        "y_pred_6[:10] "
      ],
      "metadata": {
        "colab": {
          "base_uri": "https://localhost:8080/"
        },
        "id": "-BdgLbXIiwxw",
        "outputId": "d26bb6c7-080e-4e6c-cafb-055133f72bb9"
      },
      "execution_count": 75,
      "outputs": [
        {
          "output_type": "stream",
          "name": "stdout",
          "text": [
            "945/945 [==============================] - 19s 19ms/step\n"
          ]
        },
        {
          "output_type": "execute_result",
          "data": {
            "text/plain": [
              "<tf.Tensor: shape=(10,), dtype=int64, numpy=array([0, 0, 0, 2, 2, 4, 4, 4, 4, 1])>"
            ]
          },
          "metadata": {},
          "execution_count": 75
        }
      ]
    },
    {
      "cell_type": "code",
      "source": [
        "model_6_results = calculate_results(y_dev, y_pred_6)\n",
        "model_6_results"
      ],
      "metadata": {
        "colab": {
          "base_uri": "https://localhost:8080/"
        },
        "id": "fPizQmQQjat1",
        "outputId": "41138400-edd1-40ff-94b2-568eed1767db"
      },
      "execution_count": 78,
      "outputs": [
        {
          "output_type": "execute_result",
          "data": {
            "text/plain": [
              "{'accuracy': 84.6981331921091,\n",
              " 'precision': 0.8519582294528786,\n",
              " 'recall': 0.8469813319210909,\n",
              " 'f1': 0.8429543330570832}"
            ]
          },
          "metadata": {},
          "execution_count": 78
        }
      ]
    },
    {
      "cell_type": "code",
      "source": [],
      "metadata": {
        "id": "EzNyfZl9jcCo"
      },
      "execution_count": null,
      "outputs": []
    }
  ]
}